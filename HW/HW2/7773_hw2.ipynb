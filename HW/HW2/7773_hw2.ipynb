{
 "cells": [
  {
   "cell_type": "markdown",
   "id": "7d5c044f",
   "metadata": {
    "id": "7d5c044f"
   },
   "source": [
    "# FRE7773 - Machine Learning in Financial Engineering\n",
    "# Assignment 2\n",
    "# Please submit the .ipynb file on Brightspace before **16th Nov. 11:59 pm**."
   ]
  },
  {
   "cell_type": "markdown",
   "id": "32c0890a",
   "metadata": {
    "id": "32c0890a"
   },
   "source": [
    "## Models:\n",
    "1. SVR (regression problem) - 25%\n",
    "2. Decision Trees - 25%\n",
    "3. Random Forests - 50%\n",
    "\n",
    "### General Guidelines:\n",
    "1. You can choose the same or different financial applications for each model.\n",
    "2. All your work, from explanations to code and analysis, should be presented within a\n",
    "single Jupyter notebook.\n",
    "3. While reusing content from other sources is allowed, always ensure you provide\n",
    "appropriate citations and references.\n",
    "4. This is an individual assignment. Adhere strictly to NYU’s policy on plagiarism. Late\n",
    "submissions will not be accepted and will result in a deduction of 10 points (if late more\n",
    "than 24h, will result in a deduction of 20 points).\n",
    "\n",
    "### Key Emphasis:\n",
    "While accuracy is valuable, a descriptive, clear, and convincing implementation and analysis of\n",
    "your models hold greater weight in this assignment."
   ]
  },
  {
   "cell_type": "code",
   "execution_count": 3,
   "id": "9833ae4b",
   "metadata": {
    "colab": {
     "base_uri": "https://localhost:8080/"
    },
    "id": "9833ae4b",
    "outputId": "e76f0255-41b1-429a-d029-2e505cd71d77"
   },
   "outputs": [
    {
     "name": "stdout",
     "output_type": "stream",
     "text": [
      "Requirement already satisfied: imbalanced-learn in /Applications/anaconda3/lib/python3.12/site-packages (0.12.4)\n",
      "Requirement already satisfied: numpy>=1.17.3 in /Applications/anaconda3/lib/python3.12/site-packages (from imbalanced-learn) (1.26.4)\n",
      "Requirement already satisfied: scipy>=1.5.0 in /Applications/anaconda3/lib/python3.12/site-packages (from imbalanced-learn) (1.13.1)\n",
      "Requirement already satisfied: scikit-learn>=1.0.2 in /Applications/anaconda3/lib/python3.12/site-packages (from imbalanced-learn) (1.4.2)\n",
      "Requirement already satisfied: joblib>=1.1.1 in /Applications/anaconda3/lib/python3.12/site-packages (from imbalanced-learn) (1.4.2)\n",
      "Requirement already satisfied: threadpoolctl>=2.0.0 in /Applications/anaconda3/lib/python3.12/site-packages (from imbalanced-learn) (2.2.0)\n",
      "\n",
      "\u001b[1m[\u001b[0m\u001b[34;49mnotice\u001b[0m\u001b[1;39;49m]\u001b[0m\u001b[39;49m A new release of pip is available: \u001b[0m\u001b[31;49m24.2\u001b[0m\u001b[39;49m -> \u001b[0m\u001b[32;49m24.3.1\u001b[0m\n",
      "\u001b[1m[\u001b[0m\u001b[34;49mnotice\u001b[0m\u001b[1;39;49m]\u001b[0m\u001b[39;49m To update, run: \u001b[0m\u001b[32;49mpip install --upgrade pip\u001b[0m\n",
      "Requirement already satisfied: scikit-learn in /Applications/anaconda3/lib/python3.12/site-packages (1.4.2)\n",
      "Requirement already satisfied: numpy>=1.19.5 in /Applications/anaconda3/lib/python3.12/site-packages (from scikit-learn) (1.26.4)\n",
      "Requirement already satisfied: scipy>=1.6.0 in /Applications/anaconda3/lib/python3.12/site-packages (from scikit-learn) (1.13.1)\n",
      "Requirement already satisfied: joblib>=1.2.0 in /Applications/anaconda3/lib/python3.12/site-packages (from scikit-learn) (1.4.2)\n",
      "Requirement already satisfied: threadpoolctl>=2.0.0 in /Applications/anaconda3/lib/python3.12/site-packages (from scikit-learn) (2.2.0)\n",
      "\n",
      "\u001b[1m[\u001b[0m\u001b[34;49mnotice\u001b[0m\u001b[1;39;49m]\u001b[0m\u001b[39;49m A new release of pip is available: \u001b[0m\u001b[31;49m24.2\u001b[0m\u001b[39;49m -> \u001b[0m\u001b[32;49m24.3.1\u001b[0m\n",
      "\u001b[1m[\u001b[0m\u001b[34;49mnotice\u001b[0m\u001b[1;39;49m]\u001b[0m\u001b[39;49m To update, run: \u001b[0m\u001b[32;49mpip install --upgrade pip\u001b[0m\n",
      "Requirement already satisfied: seaborn in /Applications/anaconda3/lib/python3.12/site-packages (0.13.2)\n",
      "Requirement already satisfied: numpy!=1.24.0,>=1.20 in /Applications/anaconda3/lib/python3.12/site-packages (from seaborn) (1.26.4)\n",
      "Requirement already satisfied: pandas>=1.2 in /Applications/anaconda3/lib/python3.12/site-packages (from seaborn) (2.2.2)\n",
      "Requirement already satisfied: matplotlib!=3.6.1,>=3.4 in /Applications/anaconda3/lib/python3.12/site-packages (from seaborn) (3.8.4)\n",
      "Requirement already satisfied: contourpy>=1.0.1 in /Applications/anaconda3/lib/python3.12/site-packages (from matplotlib!=3.6.1,>=3.4->seaborn) (1.2.0)\n",
      "Requirement already satisfied: cycler>=0.10 in /Applications/anaconda3/lib/python3.12/site-packages (from matplotlib!=3.6.1,>=3.4->seaborn) (0.11.0)\n",
      "Requirement already satisfied: fonttools>=4.22.0 in /Applications/anaconda3/lib/python3.12/site-packages (from matplotlib!=3.6.1,>=3.4->seaborn) (4.51.0)\n",
      "Requirement already satisfied: kiwisolver>=1.3.1 in /Applications/anaconda3/lib/python3.12/site-packages (from matplotlib!=3.6.1,>=3.4->seaborn) (1.4.4)\n",
      "Requirement already satisfied: packaging>=20.0 in /Applications/anaconda3/lib/python3.12/site-packages (from matplotlib!=3.6.1,>=3.4->seaborn) (23.2)\n",
      "Requirement already satisfied: pillow>=8 in /Applications/anaconda3/lib/python3.12/site-packages (from matplotlib!=3.6.1,>=3.4->seaborn) (10.3.0)\n",
      "Requirement already satisfied: pyparsing>=2.3.1 in /Applications/anaconda3/lib/python3.12/site-packages (from matplotlib!=3.6.1,>=3.4->seaborn) (3.0.9)\n",
      "Requirement already satisfied: python-dateutil>=2.7 in /Applications/anaconda3/lib/python3.12/site-packages (from matplotlib!=3.6.1,>=3.4->seaborn) (2.9.0.post0)\n",
      "Requirement already satisfied: pytz>=2020.1 in /Applications/anaconda3/lib/python3.12/site-packages (from pandas>=1.2->seaborn) (2024.1)\n",
      "Requirement already satisfied: tzdata>=2022.7 in /Applications/anaconda3/lib/python3.12/site-packages (from pandas>=1.2->seaborn) (2023.3)\n",
      "Requirement already satisfied: six>=1.5 in /Applications/anaconda3/lib/python3.12/site-packages (from python-dateutil>=2.7->matplotlib!=3.6.1,>=3.4->seaborn) (1.16.0)\n",
      "\n",
      "\u001b[1m[\u001b[0m\u001b[34;49mnotice\u001b[0m\u001b[1;39;49m]\u001b[0m\u001b[39;49m A new release of pip is available: \u001b[0m\u001b[31;49m24.2\u001b[0m\u001b[39;49m -> \u001b[0m\u001b[32;49m24.3.1\u001b[0m\n",
      "\u001b[1m[\u001b[0m\u001b[34;49mnotice\u001b[0m\u001b[1;39;49m]\u001b[0m\u001b[39;49m To update, run: \u001b[0m\u001b[32;49mpip install --upgrade pip\u001b[0m\n",
      "Requirement already satisfied: yfinance in /Applications/anaconda3/lib/python3.12/site-packages (0.2.44)\n",
      "Requirement already satisfied: pandas>=1.3.0 in /Applications/anaconda3/lib/python3.12/site-packages (from yfinance) (2.2.2)\n",
      "Requirement already satisfied: numpy>=1.16.5 in /Applications/anaconda3/lib/python3.12/site-packages (from yfinance) (1.26.4)\n",
      "Requirement already satisfied: requests>=2.31 in /Applications/anaconda3/lib/python3.12/site-packages (from yfinance) (2.32.2)\n",
      "Requirement already satisfied: multitasking>=0.0.7 in /Applications/anaconda3/lib/python3.12/site-packages (from yfinance) (0.0.11)\n",
      "Requirement already satisfied: lxml>=4.9.1 in /Applications/anaconda3/lib/python3.12/site-packages (from yfinance) (5.2.1)\n",
      "Requirement already satisfied: platformdirs>=2.0.0 in /Applications/anaconda3/lib/python3.12/site-packages (from yfinance) (3.10.0)\n",
      "Requirement already satisfied: pytz>=2022.5 in /Applications/anaconda3/lib/python3.12/site-packages (from yfinance) (2024.1)\n",
      "Requirement already satisfied: frozendict>=2.3.4 in /Applications/anaconda3/lib/python3.12/site-packages (from yfinance) (2.4.2)\n",
      "Requirement already satisfied: peewee>=3.16.2 in /Applications/anaconda3/lib/python3.12/site-packages (from yfinance) (3.17.6)\n",
      "Requirement already satisfied: beautifulsoup4>=4.11.1 in /Applications/anaconda3/lib/python3.12/site-packages (from yfinance) (4.12.3)\n",
      "Requirement already satisfied: html5lib>=1.1 in /Applications/anaconda3/lib/python3.12/site-packages (from yfinance) (1.1)\n",
      "Requirement already satisfied: soupsieve>1.2 in /Applications/anaconda3/lib/python3.12/site-packages (from beautifulsoup4>=4.11.1->yfinance) (2.5)\n",
      "Requirement already satisfied: six>=1.9 in /Applications/anaconda3/lib/python3.12/site-packages (from html5lib>=1.1->yfinance) (1.16.0)\n",
      "Requirement already satisfied: webencodings in /Applications/anaconda3/lib/python3.12/site-packages (from html5lib>=1.1->yfinance) (0.5.1)\n",
      "Requirement already satisfied: python-dateutil>=2.8.2 in /Applications/anaconda3/lib/python3.12/site-packages (from pandas>=1.3.0->yfinance) (2.9.0.post0)\n",
      "Requirement already satisfied: tzdata>=2022.7 in /Applications/anaconda3/lib/python3.12/site-packages (from pandas>=1.3.0->yfinance) (2023.3)\n",
      "Requirement already satisfied: charset-normalizer<4,>=2 in /Applications/anaconda3/lib/python3.12/site-packages (from requests>=2.31->yfinance) (2.0.4)\n",
      "Requirement already satisfied: idna<4,>=2.5 in /Applications/anaconda3/lib/python3.12/site-packages (from requests>=2.31->yfinance) (3.7)\n",
      "Requirement already satisfied: urllib3<3,>=1.21.1 in /Applications/anaconda3/lib/python3.12/site-packages (from requests>=2.31->yfinance) (2.2.2)\n",
      "Requirement already satisfied: certifi>=2017.4.17 in /Applications/anaconda3/lib/python3.12/site-packages (from requests>=2.31->yfinance) (2024.8.30)\n",
      "\n",
      "\u001b[1m[\u001b[0m\u001b[34;49mnotice\u001b[0m\u001b[1;39;49m]\u001b[0m\u001b[39;49m A new release of pip is available: \u001b[0m\u001b[31;49m24.2\u001b[0m\u001b[39;49m -> \u001b[0m\u001b[32;49m24.3.1\u001b[0m\n",
      "\u001b[1m[\u001b[0m\u001b[34;49mnotice\u001b[0m\u001b[1;39;49m]\u001b[0m\u001b[39;49m To update, run: \u001b[0m\u001b[32;49mpip install --upgrade pip\u001b[0m\n",
      "Requirement already satisfied: quandl in /Applications/anaconda3/lib/python3.12/site-packages (3.7.0)\n",
      "Requirement already satisfied: pandas>=0.14 in /Applications/anaconda3/lib/python3.12/site-packages (from quandl) (2.2.2)\n",
      "Requirement already satisfied: numpy>=1.8 in /Applications/anaconda3/lib/python3.12/site-packages (from quandl) (1.26.4)\n",
      "Requirement already satisfied: requests>=2.7.0 in /Applications/anaconda3/lib/python3.12/site-packages (from quandl) (2.32.2)\n",
      "Requirement already satisfied: inflection>=0.3.1 in /Applications/anaconda3/lib/python3.12/site-packages (from quandl) (0.5.1)\n",
      "Requirement already satisfied: python-dateutil in /Applications/anaconda3/lib/python3.12/site-packages (from quandl) (2.9.0.post0)\n",
      "Requirement already satisfied: six in /Applications/anaconda3/lib/python3.12/site-packages (from quandl) (1.16.0)\n",
      "Requirement already satisfied: more-itertools in /Applications/anaconda3/lib/python3.12/site-packages (from quandl) (10.1.0)\n",
      "Requirement already satisfied: pytz>=2020.1 in /Applications/anaconda3/lib/python3.12/site-packages (from pandas>=0.14->quandl) (2024.1)\n",
      "Requirement already satisfied: tzdata>=2022.7 in /Applications/anaconda3/lib/python3.12/site-packages (from pandas>=0.14->quandl) (2023.3)\n",
      "Requirement already satisfied: charset-normalizer<4,>=2 in /Applications/anaconda3/lib/python3.12/site-packages (from requests>=2.7.0->quandl) (2.0.4)\n",
      "Requirement already satisfied: idna<4,>=2.5 in /Applications/anaconda3/lib/python3.12/site-packages (from requests>=2.7.0->quandl) (3.7)\n",
      "Requirement already satisfied: urllib3<3,>=1.21.1 in /Applications/anaconda3/lib/python3.12/site-packages (from requests>=2.7.0->quandl) (2.2.2)\n",
      "Requirement already satisfied: certifi>=2017.4.17 in /Applications/anaconda3/lib/python3.12/site-packages (from requests>=2.7.0->quandl) (2024.8.30)\n",
      "\n",
      "\u001b[1m[\u001b[0m\u001b[34;49mnotice\u001b[0m\u001b[1;39;49m]\u001b[0m\u001b[39;49m A new release of pip is available: \u001b[0m\u001b[31;49m24.2\u001b[0m\u001b[39;49m -> \u001b[0m\u001b[32;49m24.3.1\u001b[0m\n",
      "\u001b[1m[\u001b[0m\u001b[34;49mnotice\u001b[0m\u001b[1;39;49m]\u001b[0m\u001b[39;49m To update, run: \u001b[0m\u001b[32;49mpip install --upgrade pip\u001b[0m\n",
      "Requirement already satisfied: graphviz in /Applications/anaconda3/lib/python3.12/site-packages (0.20.3)\n",
      "\n",
      "\u001b[1m[\u001b[0m\u001b[34;49mnotice\u001b[0m\u001b[1;39;49m]\u001b[0m\u001b[39;49m A new release of pip is available: \u001b[0m\u001b[31;49m24.2\u001b[0m\u001b[39;49m -> \u001b[0m\u001b[32;49m24.3.1\u001b[0m\n",
      "\u001b[1m[\u001b[0m\u001b[34;49mnotice\u001b[0m\u001b[1;39;49m]\u001b[0m\u001b[39;49m To update, run: \u001b[0m\u001b[32;49mpip install --upgrade pip\u001b[0m\n",
      "Requirement already satisfied: pandas-ta in /Applications/anaconda3/lib/python3.12/site-packages (0.3.14b0)\n",
      "Requirement already satisfied: pandas in /Applications/anaconda3/lib/python3.12/site-packages (from pandas-ta) (2.2.2)\n",
      "Requirement already satisfied: numpy>=1.26.0 in /Applications/anaconda3/lib/python3.12/site-packages (from pandas->pandas-ta) (1.26.4)\n",
      "Requirement already satisfied: python-dateutil>=2.8.2 in /Applications/anaconda3/lib/python3.12/site-packages (from pandas->pandas-ta) (2.9.0.post0)\n",
      "Requirement already satisfied: pytz>=2020.1 in /Applications/anaconda3/lib/python3.12/site-packages (from pandas->pandas-ta) (2024.1)\n",
      "Requirement already satisfied: tzdata>=2022.7 in /Applications/anaconda3/lib/python3.12/site-packages (from pandas->pandas-ta) (2023.3)\n",
      "Requirement already satisfied: six>=1.5 in /Applications/anaconda3/lib/python3.12/site-packages (from python-dateutil>=2.8.2->pandas->pandas-ta) (1.16.0)\n",
      "\n",
      "\u001b[1m[\u001b[0m\u001b[34;49mnotice\u001b[0m\u001b[1;39;49m]\u001b[0m\u001b[39;49m A new release of pip is available: \u001b[0m\u001b[31;49m24.2\u001b[0m\u001b[39;49m -> \u001b[0m\u001b[32;49m24.3.1\u001b[0m\n",
      "\u001b[1m[\u001b[0m\u001b[34;49mnotice\u001b[0m\u001b[1;39;49m]\u001b[0m\u001b[39;49m To update, run: \u001b[0m\u001b[32;49mpip install --upgrade pip\u001b[0m\n"
     ]
    }
   ],
   "source": [
    "#install the package if needed\n",
    "! pip install -U imbalanced-learn\n",
    "! pip install scikit-learn\n",
    "! pip install seaborn\n",
    "! pip install yfinance\n",
    "! pip install quandl # not necessarily\n",
    "!pip install graphviz\n",
    "!pip install pandas-ta"
   ]
  },
  {
   "cell_type": "code",
   "execution_count": 4,
   "id": "cd569b69",
   "metadata": {
    "id": "cd569b69"
   },
   "outputs": [],
   "source": [
    "import yfinance as yf\n",
    "import pandas as pd\n",
    "import numpy as np\n",
    "import matplotlib.pyplot as plt\n",
    "import seaborn as sns\n",
    "import math\n",
    "import quandl\n",
    "import graphviz\n",
    "import pandas_ta as ta\n",
    "\n",
    "from sklearn.metrics import accuracy_score, classification_report, confusion_matrix\n",
    "from sklearn.svm import SVC\n",
    "from sklearn.preprocessing import MinMaxScaler,StandardScaler\n",
    "from sklearn.model_selection import train_test_split, GridSearchCV\n",
    "from sklearn.linear_model import LogisticRegression\n",
    "\n",
    "from sklearn.svm import SVR\n",
    "from sklearn.utils import shuffle\n",
    "from sklearn import preprocessing\n",
    "from sklearn import metrics\n",
    "from sklearn.metrics import mean_squared_error, r2_score, accuracy_score, classification_report, confusion_matrix\n",
    "from imblearn.over_sampling import SMOTE\n",
    "from sklearn.ensemble import RandomForestClassifier\n",
    "from sklearn.tree import DecisionTreeClassifier, DecisionTreeRegressor\n",
    "from sklearn import tree\n"
   ]
  },
  {
   "cell_type": "markdown",
   "id": "7d561ac7",
   "metadata": {
    "id": "7d561ac7"
   },
   "source": [
    "# 1. SVR"
   ]
  },
  {
   "cell_type": "markdown",
   "id": "2e94456e",
   "metadata": {
    "id": "2e94456e"
   },
   "source": [
    "## Introduction:\n",
    "\n",
    "- **Problem Statement**:\n",
    "  - **Problem**: The task at hand involves predicting the stock price of Philips, a company listed on the US stock market, using Support Vector Regression (SVR).\n",
    "  - **Other Solutions and ML Model Choice**: Traditional time series forecasting methods, such as ARIMA, have been commonly employed for stock price prediction. However, SVR is chosen for its ability to capture non-linear relationships in the data and handle complex patterns. SVR is particularly suitable for predicting stock prices, as stock market data often exhibits non-linear behavior influenced by various factors.\n",
    "\n",
    "\n",
    "- **Data Description**:\n",
    "  - **Dataset**: The dataset comprises Philips' stock price data from the US stock market. Data covers a period of ten years, from April 12, 2016, to April 12, 2016. The data is sourced from Yahoo Finance, a reliable and widely used platform for obtaining financial market data.here's the Link to the Dataset: https://finance.yahoo.com/quote/PHG?.tsrc=fin-srch\n",
    "  - **Variables**:\n",
    "    - Dependent Variable (Target):The closing price of Philips' stock on a given trading day. This serves as the target variable that the SVR model aims to predict. The closing price represents the final price level at the end of the trading session and is often used as a key indicator of a stock's performance.\n",
    "    - Independent Variables (Features)inclue the open, high,low and the volume.\n",
    "  \n",
    "- **Data preprocessing steps include**:\n",
    "  - Downloading the historical stock prices for the specified period.\n",
    "  - Cleaning the data by checking for and handling missing values, ensuring there are no gaps in the time series data.\n",
    "  - Normalizing the data"
   ]
  },
  {
   "cell_type": "markdown",
   "id": "yyK7zO6jcYE2",
   "metadata": {
    "id": "yyK7zO6jcYE2"
   },
   "source": [
    "## Implementation\n"
   ]
  },
  {
   "cell_type": "code",
   "execution_count": 8,
   "id": "6Q0Jq4Vfgiou",
   "metadata": {
    "colab": {
     "base_uri": "https://localhost:8080/",
     "height": 287
    },
    "id": "6Q0Jq4Vfgiou",
    "outputId": "0f1b294e-32d3-430c-e454-8c61874d4bef"
   },
   "outputs": [
    {
     "name": "stderr",
     "output_type": "stream",
     "text": [
      "[*********************100%***********************]  1 of 1 completed\n"
     ]
    },
    {
     "data": {
      "text/html": [
       "<div>\n",
       "<style scoped>\n",
       "    .dataframe tbody tr th:only-of-type {\n",
       "        vertical-align: middle;\n",
       "    }\n",
       "\n",
       "    .dataframe tbody tr th {\n",
       "        vertical-align: top;\n",
       "    }\n",
       "\n",
       "    .dataframe thead th {\n",
       "        text-align: right;\n",
       "    }\n",
       "</style>\n",
       "<table border=\"1\" class=\"dataframe\">\n",
       "  <thead>\n",
       "    <tr style=\"text-align: right;\">\n",
       "      <th></th>\n",
       "      <th>Open</th>\n",
       "      <th>High</th>\n",
       "      <th>Low</th>\n",
       "      <th>Close</th>\n",
       "      <th>Adj Close</th>\n",
       "      <th>Volume</th>\n",
       "    </tr>\n",
       "    <tr>\n",
       "      <th>Date</th>\n",
       "      <th></th>\n",
       "      <th></th>\n",
       "      <th></th>\n",
       "      <th></th>\n",
       "      <th></th>\n",
       "      <th></th>\n",
       "    </tr>\n",
       "  </thead>\n",
       "  <tbody>\n",
       "    <tr>\n",
       "      <th>2006-04-12</th>\n",
       "      <td>32.689999</td>\n",
       "      <td>32.849998</td>\n",
       "      <td>32.549999</td>\n",
       "      <td>32.650002</td>\n",
       "      <td>20.162374</td>\n",
       "      <td>563800</td>\n",
       "    </tr>\n",
       "    <tr>\n",
       "      <th>2006-04-13</th>\n",
       "      <td>32.500000</td>\n",
       "      <td>32.810001</td>\n",
       "      <td>32.369999</td>\n",
       "      <td>32.750000</td>\n",
       "      <td>20.224127</td>\n",
       "      <td>1439600</td>\n",
       "    </tr>\n",
       "    <tr>\n",
       "      <th>2006-04-17</th>\n",
       "      <td>32.349998</td>\n",
       "      <td>33.090000</td>\n",
       "      <td>32.349998</td>\n",
       "      <td>32.910000</td>\n",
       "      <td>20.322933</td>\n",
       "      <td>1179400</td>\n",
       "    </tr>\n",
       "    <tr>\n",
       "      <th>2006-04-18</th>\n",
       "      <td>32.610001</td>\n",
       "      <td>32.880001</td>\n",
       "      <td>32.209999</td>\n",
       "      <td>32.639999</td>\n",
       "      <td>20.156199</td>\n",
       "      <td>2561600</td>\n",
       "    </tr>\n",
       "    <tr>\n",
       "      <th>2006-04-19</th>\n",
       "      <td>33.330002</td>\n",
       "      <td>34.060001</td>\n",
       "      <td>33.330002</td>\n",
       "      <td>33.980000</td>\n",
       "      <td>20.983688</td>\n",
       "      <td>905800</td>\n",
       "    </tr>\n",
       "  </tbody>\n",
       "</table>\n",
       "</div>"
      ],
      "text/plain": [
       "                 Open       High        Low      Close  Adj Close   Volume\n",
       "Date                                                                      \n",
       "2006-04-12  32.689999  32.849998  32.549999  32.650002  20.162374   563800\n",
       "2006-04-13  32.500000  32.810001  32.369999  32.750000  20.224127  1439600\n",
       "2006-04-17  32.349998  33.090000  32.349998  32.910000  20.322933  1179400\n",
       "2006-04-18  32.610001  32.880001  32.209999  32.639999  20.156199  2561600\n",
       "2006-04-19  33.330002  34.060001  33.330002  33.980000  20.983688   905800"
      ]
     },
     "execution_count": 8,
     "metadata": {},
     "output_type": "execute_result"
    }
   ],
   "source": [
    "# Loading the stock price data from April 12, 1996, to April 12, 2016\n",
    "df = yf.download('PHG', start='2006-04-12', end='2016-04-12')\n",
    "df.head()"
   ]
  },
  {
   "cell_type": "code",
   "execution_count": 9,
   "id": "K8xl8U5iippA",
   "metadata": {
    "colab": {
     "base_uri": "https://localhost:8080/",
     "height": 238
    },
    "id": "K8xl8U5iippA",
    "outputId": "692901b6-578e-499e-92da-10b8e21ec463"
   },
   "outputs": [
    {
     "data": {
      "text/html": [
       "<div>\n",
       "<style scoped>\n",
       "    .dataframe tbody tr th:only-of-type {\n",
       "        vertical-align: middle;\n",
       "    }\n",
       "\n",
       "    .dataframe tbody tr th {\n",
       "        vertical-align: top;\n",
       "    }\n",
       "\n",
       "    .dataframe thead th {\n",
       "        text-align: right;\n",
       "    }\n",
       "</style>\n",
       "<table border=\"1\" class=\"dataframe\">\n",
       "  <thead>\n",
       "    <tr style=\"text-align: right;\">\n",
       "      <th></th>\n",
       "      <th>open</th>\n",
       "      <th>high</th>\n",
       "      <th>low</th>\n",
       "      <th>close</th>\n",
       "      <th>adj close</th>\n",
       "      <th>volume</th>\n",
       "    </tr>\n",
       "    <tr>\n",
       "      <th>Date</th>\n",
       "      <th></th>\n",
       "      <th></th>\n",
       "      <th></th>\n",
       "      <th></th>\n",
       "      <th></th>\n",
       "      <th></th>\n",
       "    </tr>\n",
       "  </thead>\n",
       "  <tbody>\n",
       "    <tr>\n",
       "      <th>2006-04-12</th>\n",
       "      <td>32.689999</td>\n",
       "      <td>32.849998</td>\n",
       "      <td>32.549999</td>\n",
       "      <td>32.650002</td>\n",
       "      <td>20.162374</td>\n",
       "      <td>563800</td>\n",
       "    </tr>\n",
       "    <tr>\n",
       "      <th>2006-04-13</th>\n",
       "      <td>32.500000</td>\n",
       "      <td>32.810001</td>\n",
       "      <td>32.369999</td>\n",
       "      <td>32.750000</td>\n",
       "      <td>20.224127</td>\n",
       "      <td>1439600</td>\n",
       "    </tr>\n",
       "    <tr>\n",
       "      <th>2006-04-17</th>\n",
       "      <td>32.349998</td>\n",
       "      <td>33.090000</td>\n",
       "      <td>32.349998</td>\n",
       "      <td>32.910000</td>\n",
       "      <td>20.322933</td>\n",
       "      <td>1179400</td>\n",
       "    </tr>\n",
       "    <tr>\n",
       "      <th>2006-04-18</th>\n",
       "      <td>32.610001</td>\n",
       "      <td>32.880001</td>\n",
       "      <td>32.209999</td>\n",
       "      <td>32.639999</td>\n",
       "      <td>20.156199</td>\n",
       "      <td>2561600</td>\n",
       "    </tr>\n",
       "    <tr>\n",
       "      <th>2006-04-19</th>\n",
       "      <td>33.330002</td>\n",
       "      <td>34.060001</td>\n",
       "      <td>33.330002</td>\n",
       "      <td>33.980000</td>\n",
       "      <td>20.983688</td>\n",
       "      <td>905800</td>\n",
       "    </tr>\n",
       "  </tbody>\n",
       "</table>\n",
       "</div>"
      ],
      "text/plain": [
       "                 open       high        low      close  adj close   volume\n",
       "Date                                                                      \n",
       "2006-04-12  32.689999  32.849998  32.549999  32.650002  20.162374   563800\n",
       "2006-04-13  32.500000  32.810001  32.369999  32.750000  20.224127  1439600\n",
       "2006-04-17  32.349998  33.090000  32.349998  32.910000  20.322933  1179400\n",
       "2006-04-18  32.610001  32.880001  32.209999  32.639999  20.156199  2561600\n",
       "2006-04-19  33.330002  34.060001  33.330002  33.980000  20.983688   905800"
      ]
     },
     "execution_count": 9,
     "metadata": {},
     "output_type": "execute_result"
    }
   ],
   "source": [
    "# Adjust index and columns\n",
    "df.index = pd.to_datetime(df.index)\n",
    "df.index = df.index.strftime('%Y-%m-%d')\n",
    "df.columns = ['open', 'high', 'low', 'close', 'adj close', 'volume']\n",
    "\n",
    "df.head()"
   ]
  },
  {
   "cell_type": "markdown",
   "id": "EH8JpxWoGUtR",
   "metadata": {
    "id": "EH8JpxWoGUtR"
   },
   "source": [
    "## Task 1: Feature Engineering\n",
    "In this task, you are going to generate 5 features by using the package called 'pandas_ta'. Please follow the instructions below.\n",
    "\n",
    "1. **EMA (Exponential Moving Average):**  \n",
    "   - EMA is a type of moving average that places more weight on recent close price. It's calculated based on the previous EMA value and the current close price. EMA can smooth out price data, making it easier to identify trends and potential reversal points. Using EMA as a feature in the model can capture the trend behavior.\n",
    "   \n",
    "2. **ATR (Average True Range):**  \n",
    "   - ATR measures market volatility by considering the trading range of an asset over a specified period. It's typically used to set stop-loss levels and to determine the size of positions. ATR provides insights into market volatility, which can help adjust risk management strategies. Higher volatility might indicate larger potential price movements, which could be useful for predicting market direction.\n",
    "\n",
    "3. **ADX (Average Directional Index):**  \n",
    "   - ADX quantifies the strength of a trend, regardless of its direction. It's derived from the smoothed averages of positive and negative directional movements. ADX helps in identifying the strength of a trend, which is valuable information for trend-following strategies. A strong trend, as indicated by a high ADX value, might imply higher confidence in trend-based predictions.\n",
    "\n",
    "4. **RSI (Relative Strength Index):**  \n",
    "   - RSI measures the magnitude of recent price changes to evaluate overbought or oversold conditions in the market. It's expressed as a value between 0 and 100. RSI helps identify potential reversal points due to overbought or oversold conditions. Extreme RSI values might indicate a possible trend reversal, providing signals for entry or exit points in trading strategies.\n",
    "\n",
    "5. **MACD (Moving Average Convergence Divergence):**  \n",
    "   - MACD is a trend-following momentum indicator that shows the relationship between two moving averages of a security's price. It consists of MACD line, signal line, and MACD histogram. MACD provides signals for trend changes and momentum shifts. Crossovers between the MACD line and signal line, as well as divergences between MACD and price, can signal potential entry or exit points in trading strategies.\n",
    "\n",
    "Each of these indicators captures different aspects of market behavior, including trend direction, volatility, trend strength, and momentum. By incorporating them as features in the machine learning models, we aim to leverage these insights to improve the predictive accuracy of our models."
   ]
  },
  {
   "cell_type": "code",
   "execution_count": 11,
   "id": "trDWsVTm6XwN",
   "metadata": {
    "id": "trDWsVTm6XwN"
   },
   "outputs": [
    {
     "data": {
      "text/html": [
       "<div>\n",
       "<style scoped>\n",
       "    .dataframe tbody tr th:only-of-type {\n",
       "        vertical-align: middle;\n",
       "    }\n",
       "\n",
       "    .dataframe tbody tr th {\n",
       "        vertical-align: top;\n",
       "    }\n",
       "\n",
       "    .dataframe thead th {\n",
       "        text-align: right;\n",
       "    }\n",
       "</style>\n",
       "<table border=\"1\" class=\"dataframe\">\n",
       "  <thead>\n",
       "    <tr style=\"text-align: right;\">\n",
       "      <th></th>\n",
       "      <th>open</th>\n",
       "      <th>high</th>\n",
       "      <th>low</th>\n",
       "      <th>close</th>\n",
       "      <th>adj close</th>\n",
       "      <th>volume</th>\n",
       "      <th>EMA</th>\n",
       "      <th>ATR</th>\n",
       "      <th>ADX</th>\n",
       "      <th>RSI</th>\n",
       "      <th>MACD</th>\n",
       "      <th>MACD_signal</th>\n",
       "      <th>MACD_hist</th>\n",
       "    </tr>\n",
       "    <tr>\n",
       "      <th>Date</th>\n",
       "      <th></th>\n",
       "      <th></th>\n",
       "      <th></th>\n",
       "      <th></th>\n",
       "      <th></th>\n",
       "      <th></th>\n",
       "      <th></th>\n",
       "      <th></th>\n",
       "      <th></th>\n",
       "      <th></th>\n",
       "      <th></th>\n",
       "      <th></th>\n",
       "      <th></th>\n",
       "    </tr>\n",
       "  </thead>\n",
       "  <tbody>\n",
       "    <tr>\n",
       "      <th>2006-05-31</th>\n",
       "      <td>31.510000</td>\n",
       "      <td>31.629999</td>\n",
       "      <td>31.230000</td>\n",
       "      <td>31.610001</td>\n",
       "      <td>19.520142</td>\n",
       "      <td>898300</td>\n",
       "      <td>31.564007</td>\n",
       "      <td>0.691865</td>\n",
       "      <td>30.289270</td>\n",
       "      <td>42.984639</td>\n",
       "      <td>-0.772769</td>\n",
       "      <td>-0.900122</td>\n",
       "      <td>0.127353</td>\n",
       "    </tr>\n",
       "    <tr>\n",
       "      <th>2006-06-01</th>\n",
       "      <td>31.150000</td>\n",
       "      <td>32.070000</td>\n",
       "      <td>31.139999</td>\n",
       "      <td>32.060001</td>\n",
       "      <td>19.798031</td>\n",
       "      <td>1055400</td>\n",
       "      <td>31.654188</td>\n",
       "      <td>0.710363</td>\n",
       "      <td>28.569450</td>\n",
       "      <td>48.178796</td>\n",
       "      <td>-0.683355</td>\n",
       "      <td>-0.856769</td>\n",
       "      <td>0.173413</td>\n",
       "    </tr>\n",
       "    <tr>\n",
       "      <th>2006-06-02</th>\n",
       "      <td>32.389999</td>\n",
       "      <td>32.410000</td>\n",
       "      <td>31.660000</td>\n",
       "      <td>31.959999</td>\n",
       "      <td>19.736279</td>\n",
       "      <td>892000</td>\n",
       "      <td>31.709790</td>\n",
       "      <td>0.713423</td>\n",
       "      <td>26.301835</td>\n",
       "      <td>47.150795</td>\n",
       "      <td>-0.613492</td>\n",
       "      <td>-0.808113</td>\n",
       "      <td>0.194622</td>\n",
       "    </tr>\n",
       "    <tr>\n",
       "      <th>2006-06-05</th>\n",
       "      <td>31.530001</td>\n",
       "      <td>31.600000</td>\n",
       "      <td>30.879999</td>\n",
       "      <td>30.910000</td>\n",
       "      <td>19.087872</td>\n",
       "      <td>492800</td>\n",
       "      <td>31.564373</td>\n",
       "      <td>0.741560</td>\n",
       "      <td>25.581306</td>\n",
       "      <td>37.985963</td>\n",
       "      <td>-0.635524</td>\n",
       "      <td>-0.773596</td>\n",
       "      <td>0.138071</td>\n",
       "    </tr>\n",
       "    <tr>\n",
       "      <th>2006-06-06</th>\n",
       "      <td>30.530001</td>\n",
       "      <td>30.530001</td>\n",
       "      <td>30.020000</td>\n",
       "      <td>30.379999</td>\n",
       "      <td>18.760578</td>\n",
       "      <td>727700</td>\n",
       "      <td>31.349033</td>\n",
       "      <td>0.752893</td>\n",
       "      <td>26.027455</td>\n",
       "      <td>34.355939</td>\n",
       "      <td>-0.687823</td>\n",
       "      <td>-0.756441</td>\n",
       "      <td>0.068618</td>\n",
       "    </tr>\n",
       "  </tbody>\n",
       "</table>\n",
       "</div>"
      ],
      "text/plain": [
       "                 open       high        low      close  adj close   volume  \\\n",
       "Date                                                                         \n",
       "2006-05-31  31.510000  31.629999  31.230000  31.610001  19.520142   898300   \n",
       "2006-06-01  31.150000  32.070000  31.139999  32.060001  19.798031  1055400   \n",
       "2006-06-02  32.389999  32.410000  31.660000  31.959999  19.736279   892000   \n",
       "2006-06-05  31.530001  31.600000  30.879999  30.910000  19.087872   492800   \n",
       "2006-06-06  30.530001  30.530001  30.020000  30.379999  18.760578   727700   \n",
       "\n",
       "                  EMA       ATR        ADX        RSI      MACD  MACD_signal  \\\n",
       "Date                                                                           \n",
       "2006-05-31  31.564007  0.691865  30.289270  42.984639 -0.772769    -0.900122   \n",
       "2006-06-01  31.654188  0.710363  28.569450  48.178796 -0.683355    -0.856769   \n",
       "2006-06-02  31.709790  0.713423  26.301835  47.150795 -0.613492    -0.808113   \n",
       "2006-06-05  31.564373  0.741560  25.581306  37.985963 -0.635524    -0.773596   \n",
       "2006-06-06  31.349033  0.752893  26.027455  34.355939 -0.687823    -0.756441   \n",
       "\n",
       "            MACD_hist  \n",
       "Date                   \n",
       "2006-05-31   0.127353  \n",
       "2006-06-01   0.173413  \n",
       "2006-06-02   0.194622  \n",
       "2006-06-05   0.138071  \n",
       "2006-06-06   0.068618  "
      ]
     },
     "execution_count": 11,
     "metadata": {},
     "output_type": "execute_result"
    }
   ],
   "source": [
    "# Write your code here.\n",
    "# For example\n",
    "df['EMA'] = ta.ema(df['close'], length=10)\n",
    "df['ATR'] = ta.atr(df['high'], df['low'], df['close'], length=14)\n",
    "df['ADX'] = ta.adx(df['high'], df['low'], df['close'], length=14)['ADX_14']\n",
    "df['RSI'] = ta.rsi(df['close'], length=14)\n",
    "\n",
    "macd = ta.macd(df['close'])\n",
    "df['MACD'] = macd['MACD_12_26_9']\n",
    "df['MACD_signal'] = macd['MACDs_12_26_9']\n",
    "df['MACD_hist'] = macd['MACDh_12_26_9']\n",
    "\n",
    "df = df.dropna()\n",
    "df.head()"
   ]
  },
  {
   "cell_type": "markdown",
   "id": "X4PjVi60m6aO",
   "metadata": {
    "id": "X4PjVi60m6aO"
   },
   "source": [
    "### Task 2: Train-Test Split\n",
    "\n",
    "*   This step involves splitting the dataset into training and testing sets. The training set is used to train the SVR model, while the testing set is used to evaluate the model's performance. Make sure to separate the target variable, and the independent variables before you split the dataset.\n",
    "*   You can use The scikit-learn 'train_test_split' function with train:test = 80:20\n",
    "\n",
    "\n",
    "\n",
    "\n"
   ]
  },
  {
   "cell_type": "code",
   "execution_count": 13,
   "id": "nnnGRyfum3pX",
   "metadata": {
    "id": "nnnGRyfum3pX"
   },
   "outputs": [],
   "source": [
    "# Write your code here\n",
    "# Define independent variables (features) and the target variable\n",
    "X = df[['open', 'high', 'low', 'adj close', 'volume', 'EMA', 'ATR', 'ADX', 'RSI', 'MACD', 'MACD_signal', 'MACD_hist']]\n",
    "y = df['close']\n",
    "\n",
    "# Split the dataset into training and testing sets (80:20 ratio)\n",
    "X_train, X_test, y_train, y_test = train_test_split(X, y, test_size=0.2, random_state=42)"
   ]
  },
  {
   "cell_type": "markdown",
   "id": "phLDjEhsgHP6",
   "metadata": {
    "id": "phLDjEhsgHP6"
   },
   "source": [
    "### Task 3: Data Normalization\n",
    "*   Performing normalization to scale the training and test dataset, which helps improve the convergence speed and performance of the SVR algorithm.\n"
   ]
  },
  {
   "cell_type": "code",
   "execution_count": 15,
   "id": "i9IE5XvUqfkM",
   "metadata": {
    "id": "i9IE5XvUqfkM"
   },
   "outputs": [],
   "source": [
    "# Write your code here\n",
    "# Normalize the training and testing datasets using MinMaxScaler\n",
    "scaler = MinMaxScaler()\n",
    "X_train_normalized = scaler.fit_transform(X_train)\n",
    "X_test_normalized = scaler.transform(X_test)"
   ]
  },
  {
   "cell_type": "markdown",
   "id": "H5voeVS646aQ",
   "metadata": {
    "id": "H5voeVS646aQ"
   },
   "source": [
    "### Task 4: Train 2 SVR models\n",
    "\n",
    "\n",
    "*   Train two SVR models with different kernels (linear and polynomial) using the training data.\n",
    "*   Evaluate their performance based on the predictions using the test data. Clearly explain the metrics you are using.\n",
    "*   Discussion: 1) Why the model did good or bad job for this specific problem and dataset? 2) Delve into the pros and cons of the model, commenting on potential overfitting, or other relevant observations.\n",
    "\n",
    "\n",
    "\n"
   ]
  },
  {
   "cell_type": "code",
   "execution_count": 17,
   "id": "WcEW8Dye45k0",
   "metadata": {
    "id": "WcEW8Dye45k0"
   },
   "outputs": [],
   "source": [
    "# Write your code here\n",
    "# Train two SVR models with different kernels\n",
    "# 1. SVR with linear kernel\n",
    "svr_linear = SVR(kernel='linear')\n",
    "svr_linear.fit(X_train_normalized, y_train)\n",
    "y_pred_linear = svr_linear.predict(X_test_normalized)\n",
    "\n",
    "# 2. SVR with polynomial kernel\n",
    "svr_poly = SVR(kernel='poly', degree=2)\n",
    "svr_poly.fit(X_train_normalized, y_train)\n",
    "y_pred_poly = svr_poly.predict(X_test_normalized)\n",
    "\n",
    "# Evaluate the performance of both models using Mean Squared Error (MSE) and R-squared (R2)\n",
    "mse_linear = mean_squared_error(y_test, y_pred_linear)\n",
    "r2_linear = r2_score(y_test, y_pred_linear)\n",
    "\n",
    "mse_poly = mean_squared_error(y_test, y_pred_poly)\n",
    "r2_poly = r2_score(y_test, y_pred_poly)"
   ]
  },
  {
   "cell_type": "code",
   "execution_count": 18,
   "id": "24bfc529-ee45-4dac-8d36-0dd39eb447f4",
   "metadata": {},
   "outputs": [
    {
     "name": "stdout",
     "output_type": "stream",
     "text": [
      "SVR with Linear Kernel:\n",
      "Mean Squared Error: 0.038582681988956626\n",
      "R-squared: 0.9991823927999604\n",
      "\n",
      "SVR with Polynomial Kernel:\n",
      "Mean Squared Error: 0.3699320100082971\n",
      "R-squared: 0.9921607555691824\n",
      "\n"
     ]
    }
   ],
   "source": [
    "print(\"SVR with Linear Kernel:\")\n",
    "print(f\"Mean Squared Error: {mse_linear}\")\n",
    "print(f\"R-squared: {r2_linear}\\n\")\n",
    "\n",
    "print(\"SVR with Polynomial Kernel:\")\n",
    "print(f\"Mean Squared Error: {mse_poly}\")\n",
    "print(f\"R-squared: {r2_poly}\\n\")"
   ]
  },
  {
   "cell_type": "markdown",
   "id": "39a4ce0f-61b8-4eb7-ad5a-c0e1bd0441db",
   "metadata": {},
   "source": [
    "### Discussion\n",
    "1. The linear SVR model assumes a linear relationship between the features and the target, which might not fully capture the non-linear nature of stock price movements. This could result in suboptimal performance, especially if the relationships between the features and the target are more complex.On the other hand, the polynomial SVR model attempts to capture these non-linear relationships\n",
    "2. pros and cons\n",
    "SVR with Linear Kernel:\n",
    "Pros: Simpler model, lower risk of overfitting, faster training.\n",
    "Cons: May not capture complex, non-linear relationships in the data, leading to lower accuracy.\n",
    "SVR with Polynomial Kernel:\n",
    "Pros: Better ability to capture non-linear relationships, potentially higher accuracy.\n",
    "Cons: Higher risk of overfitting, especially with higher polynomial degrees, increased training time.\n",
    "\n",
    "\n",
    "Potential Overfitting Observation：The polynomial SVR model might overfit the training data, as it attempts to fit non-linear relationships \n"
   ]
  },
  {
   "cell_type": "markdown",
   "id": "311e0246",
   "metadata": {
    "id": "311e0246"
   },
   "source": [
    "# 2. Decision tree"
   ]
  },
  {
   "cell_type": "markdown",
   "id": "1cb5f472",
   "metadata": {
    "id": "1cb5f472"
   },
   "source": [
    "\n",
    "## Introduction\n",
    "\n",
    "**Problem Statement:**\n",
    "- The financial world is characterized by its complexity and volatility, making accurate predictions a crucial aspect of decision-making. In this project, we aim to tackle the challenge of forecasting market behavior using machine learning techniques, focusing specifically on the application of decision tree algorithms. The primary problem we seek to address is the prediction of market trends, which involves discerning whether the market will rise or fall based on historical data and technical indicators.\n",
    "\n",
    "- Traditional methods of market analysis often rely on human intuition and simplistic models, which may not capture the intricate patterns present in financial data. Machine learning (ML) models offer a promising alternative by leveraging algorithms to uncover hidden insights and make data-driven predictions. Among various ML approaches, decision tree algorithms stand out for their ability to handle complex decision-making processes and provide interpretable results.\n",
    "\n",
    "- The solution empowers investors and traders with valuable insights to make better decisions in financial markets. With the predictive models, users can strategically manage their investments, optimize portfolio allocations, and time their trades more effectively. For example, by leveraging analysis, traders can identify opportune moments to buy or sell stocks like Apple, potentially maximizing profits while minimizing risks. Ultimately, the model provides actionable intelligence, enabling users to navigate markets with confidence and achieve their financial goals.\n",
    "\n",
    "\n",
    "**Data Description:**\n",
    "\n",
    "- The dataset used in this project consists of daily market data for the Emini S&P500 index spanning over 20 years, directly downloaded from quandl. The data includes features such as opening price, closing price, highest price, lowest price, and trading volume. These features are recorded at regular intervals, providing a comprehensive time series dataset for analysis.\n",
    "\n",
    "- The relevant technical indicators, including Exponential Moving Average (EMA), Average True Range (ATR), Average Directional Index (ADX), Relative Strength Index (RSI), and Moving Average Convergence Divergence (MACD), are computed from the market data to serve as predictors for the decision tree models.\n",
    "\n",
    "- The target variable for classification tasks is derived from the daily returns of the market, categorizing whether the market will rise or fall based on predefined thresholds."
   ]
  },
  {
   "cell_type": "markdown",
   "id": "0148ebfe",
   "metadata": {
    "id": "0148ebfe"
   },
   "source": [
    "## Implementation"
   ]
  },
  {
   "cell_type": "code",
   "execution_count": 23,
   "id": "IxGkn8Hup4bj",
   "metadata": {
    "colab": {
     "base_uri": "https://localhost:8080/",
     "height": 261
    },
    "id": "IxGkn8Hup4bj",
    "outputId": "ac382df3-4078-4c46-ee1c-fd9222725347"
   },
   "outputs": [
    {
     "data": {
      "text/html": [
       "<div>\n",
       "<style scoped>\n",
       "    .dataframe tbody tr th:only-of-type {\n",
       "        vertical-align: middle;\n",
       "    }\n",
       "\n",
       "    .dataframe tbody tr th {\n",
       "        vertical-align: top;\n",
       "    }\n",
       "\n",
       "    .dataframe thead th {\n",
       "        text-align: right;\n",
       "    }\n",
       "</style>\n",
       "<table border=\"1\" class=\"dataframe\">\n",
       "  <thead>\n",
       "    <tr style=\"text-align: right;\">\n",
       "      <th></th>\n",
       "      <th>Open</th>\n",
       "      <th>High</th>\n",
       "      <th>Low</th>\n",
       "      <th>Last</th>\n",
       "      <th>Change</th>\n",
       "      <th>Settle</th>\n",
       "      <th>Volume</th>\n",
       "      <th>Previous Day Open Interest</th>\n",
       "      <th>EMA10</th>\n",
       "      <th>EMA30</th>\n",
       "      <th>ATR</th>\n",
       "      <th>ADX</th>\n",
       "      <th>RSI</th>\n",
       "      <th>MACD</th>\n",
       "      <th>MACDsignal</th>\n",
       "    </tr>\n",
       "  </thead>\n",
       "  <tbody>\n",
       "    <tr>\n",
       "      <th>5981</th>\n",
       "      <td>3937.50</td>\n",
       "      <td>3960.25</td>\n",
       "      <td>3913.00</td>\n",
       "      <td>3956.75</td>\n",
       "      <td>25.50</td>\n",
       "      <td>3958.25</td>\n",
       "      <td>1962578.0</td>\n",
       "      <td>1074588.0</td>\n",
       "      <td>3888.845380</td>\n",
       "      <td>3854.728033</td>\n",
       "      <td>67.948613</td>\n",
       "      <td>15.367395</td>\n",
       "      <td>61.385366</td>\n",
       "      <td>22.341798</td>\n",
       "      <td>13.495622</td>\n",
       "    </tr>\n",
       "    <tr>\n",
       "      <th>5982</th>\n",
       "      <td>3957.75</td>\n",
       "      <td>3970.75</td>\n",
       "      <td>3942.75</td>\n",
       "      <td>3957.50</td>\n",
       "      <td>-5.75</td>\n",
       "      <td>3952.50</td>\n",
       "      <td>1963102.0</td>\n",
       "      <td>1872176.0</td>\n",
       "      <td>3900.418947</td>\n",
       "      <td>3861.035901</td>\n",
       "      <td>65.095140</td>\n",
       "      <td>14.628503</td>\n",
       "      <td>60.581439</td>\n",
       "      <td>26.192142</td>\n",
       "      <td>16.034926</td>\n",
       "    </tr>\n",
       "    <tr>\n",
       "      <th>5983</th>\n",
       "      <td>3957.25</td>\n",
       "      <td>3973.50</td>\n",
       "      <td>3925.00</td>\n",
       "      <td>3961.25</td>\n",
       "      <td>11.00</td>\n",
       "      <td>3963.50</td>\n",
       "      <td>1922176.0</td>\n",
       "      <td>2334286.0</td>\n",
       "      <td>3911.888230</td>\n",
       "      <td>3867.646488</td>\n",
       "      <td>63.909773</td>\n",
       "      <td>13.605031</td>\n",
       "      <td>61.617057</td>\n",
       "      <td>29.787800</td>\n",
       "      <td>18.785501</td>\n",
       "    </tr>\n",
       "    <tr>\n",
       "      <th>5984</th>\n",
       "      <td>3962.00</td>\n",
       "      <td>3978.50</td>\n",
       "      <td>3900.50</td>\n",
       "      <td>3910.50</td>\n",
       "      <td>-57.50</td>\n",
       "      <td>3906.00</td>\n",
       "      <td>2096466.0</td>\n",
       "      <td>2499994.0</td>\n",
       "      <td>3910.817642</td>\n",
       "      <td>3870.120909</td>\n",
       "      <td>64.916218</td>\n",
       "      <td>13.153586</td>\n",
       "      <td>53.678224</td>\n",
       "      <td>27.678555</td>\n",
       "      <td>20.564112</td>\n",
       "    </tr>\n",
       "    <tr>\n",
       "      <th>5985</th>\n",
       "      <td>3910.75</td>\n",
       "      <td>3923.50</td>\n",
       "      <td>3875.00</td>\n",
       "      <td>3896.75</td>\n",
       "      <td>-6.25</td>\n",
       "      <td>3899.75</td>\n",
       "      <td>1986486.0</td>\n",
       "      <td>2556702.0</td>\n",
       "      <td>3908.805344</td>\n",
       "      <td>3872.032463</td>\n",
       "      <td>63.743631</td>\n",
       "      <td>13.216574</td>\n",
       "      <td>52.880689</td>\n",
       "      <td>25.212012</td>\n",
       "      <td>21.493692</td>\n",
       "    </tr>\n",
       "  </tbody>\n",
       "</table>\n",
       "</div>"
      ],
      "text/plain": [
       "         Open     High      Low     Last  Change   Settle     Volume  \\\n",
       "5981  3937.50  3960.25  3913.00  3956.75   25.50  3958.25  1962578.0   \n",
       "5982  3957.75  3970.75  3942.75  3957.50   -5.75  3952.50  1963102.0   \n",
       "5983  3957.25  3973.50  3925.00  3961.25   11.00  3963.50  1922176.0   \n",
       "5984  3962.00  3978.50  3900.50  3910.50  -57.50  3906.00  2096466.0   \n",
       "5985  3910.75  3923.50  3875.00  3896.75   -6.25  3899.75  1986486.0   \n",
       "\n",
       "      Previous Day Open Interest        EMA10        EMA30        ATR  \\\n",
       "5981                   1074588.0  3888.845380  3854.728033  67.948613   \n",
       "5982                   1872176.0  3900.418947  3861.035901  65.095140   \n",
       "5983                   2334286.0  3911.888230  3867.646488  63.909773   \n",
       "5984                   2499994.0  3910.817642  3870.120909  64.916218   \n",
       "5985                   2556702.0  3908.805344  3872.032463  63.743631   \n",
       "\n",
       "            ADX        RSI       MACD  MACDsignal  \n",
       "5981  15.367395  61.385366  22.341798   13.495622  \n",
       "5982  14.628503  60.581439  26.192142   16.034926  \n",
       "5983  13.605031  61.617057  29.787800   18.785501  \n",
       "5984  13.153586  53.678224  27.678555   20.564112  \n",
       "5985  13.216574  52.880689  25.212012   21.493692  "
      ]
     },
     "execution_count": 23,
     "metadata": {},
     "output_type": "execute_result"
    }
   ],
   "source": [
    "# All features have been saved in 'zhl.csv'.\n",
    "# You can find this file on Brightspace\n",
    "# Load the file\n",
    "\n",
    "df = pd.read_csv('/Users/charlie/Desktop/NYU2024 fall/7773/HW/HW2/zhl.csv')\n",
    "df.tail()"
   ]
  },
  {
   "cell_type": "markdown",
   "id": "0jALMYBUsL2M",
   "metadata": {
    "id": "0jALMYBUsL2M"
   },
   "source": [
    "**Feature Engineering**\n",
    "\n",
    "\n",
    "1.   'ClgtEMA10' stands for close larger than 10-day EMA. If Settle is greater than 10-day EMA, it assigns a 1. Otherwise, the value is -1. This feature indicates whether the settlement price is above or below the short-term moving average, which can help identify short-term price trends.\n",
    "\n",
    "2.   'EMA10gtEMA30' stands for 10-day EMA larger than 30-day EMA. If EMA10 is greater than EMA30, it assigns a 1. Otherwise, it assigns a -1. This feature indicates whether the short-term trend (10-period EMA) is above the longer-term trend (30-period EMA), which can be a sign of a potential upward trend. If the 10-period EMA is below the 30-period EMA, it may indicate a potential downward trend.\n",
    "\n",
    "3. 'MACDSIGgtMACD' stands for 'MACD Signal greater than MACD'. If MACD Signal is greater than MACD line, it assigns a 1. Otherwise, it assigns a -1. This feature helps identify changes in momentum. In MACD analysis, when the MACDsignal is above the MACD line, it is often considered a bearish signal (indicating potential price decreases), while the opposite can indicate a bullish signal.\n",
    "\n"
   ]
  },
  {
   "cell_type": "code",
   "execution_count": 25,
   "id": "1cd7e32f",
   "metadata": {
    "id": "1cd7e32f"
   },
   "outputs": [],
   "source": [
    "# Feature Engineering\n",
    "\n",
    "df['ClgtEMA10'] = np.where(df['Settle'] > df['EMA10'], 1, -1)\n",
    "df['EMA10gtEMA30'] = np.where(df['EMA10'] > df['EMA30'], 1, -1)\n",
    "df['MACDSIGgtMACD'] = np.where(df['MACDsignal'] > df['MACD'], 1, -1)"
   ]
  },
  {
   "cell_type": "code",
   "execution_count": 26,
   "id": "z7Sl7FEgwVa7",
   "metadata": {
    "id": "z7Sl7FEgwVa7"
   },
   "outputs": [],
   "source": [
    " # Create binary target variables based on whether the next day's return is positive or negative\n",
    "df['Return'] = df['Settle'].pct_change(1).shift(-1)\n",
    "df['target_cls'] = np.where(df.Return > 0, 1, 0)"
   ]
  },
  {
   "cell_type": "markdown",
   "id": "xG0-dLewxj4i",
   "metadata": {
    "id": "xG0-dLewxj4i"
   },
   "source": [
    "## Task 1: Train-Test Split\n",
    "\n",
    "\n",
    "*   Prepare the dataset for decision tree models, including predictor variables and target variables.\n",
    "Predictor variables should include technical indicators such as ATR, ADX, RSI, ClgtEMA10, EMA10gtEMA30, MACDSIGgtMACD.\n",
    "*   Split the data into training and testing datasets to evaluate the performance of the models on unseen data.\n",
    "\n",
    "\n"
   ]
  },
  {
   "cell_type": "code",
   "execution_count": 28,
   "id": "8UkuQykyzpRm",
   "metadata": {
    "id": "8UkuQykyzpRm"
   },
   "outputs": [],
   "source": [
    "# Write your code here.\n",
    "# Define predictor variables and target variable for decision tree model\n",
    "decision_tree_features = ['ATR', 'ADX', 'RSI', 'ClgtEMA10', 'EMA10gtEMA30', 'MACDSIGgtMACD']\n",
    "X_dt = df[decision_tree_features]\n",
    "y_dt = df['target_cls']\n",
    "\n",
    "# Drop rows with NaN values\n",
    "X_dt = X_dt.dropna()\n",
    "y_dt = y_dt[X_dt.index]\n",
    "\n",
    "# Split the dataset into training and testing sets (80:20 ratio)\n",
    "X_train_dt, X_test_dt, y_train_dt, y_test_dt = train_test_split(X_dt, y_dt, test_size=0.2, random_state=42)"
   ]
  },
  {
   "cell_type": "markdown",
   "id": "n5fVvLhkzvkG",
   "metadata": {
    "id": "n5fVvLhkzvkG"
   },
   "source": [
    "## Task 2: Train Decision Tree Model\n",
    "\n",
    "*   Initialize the decision tree classifier with specified parameters (e.g., criterion, max_depth, min_samples_leaf) and fit it to the training data.\n",
    "\n",
    "\n",
    "*   Use cross-validation to search for the optimal combination of hyperparameters on validation sets.\n",
    "\n",
    "\n"
   ]
  },
  {
   "cell_type": "code",
   "execution_count": 30,
   "id": "R7Sq9LlE034Q",
   "metadata": {
    "id": "R7Sq9LlE034Q"
   },
   "outputs": [
    {
     "name": "stdout",
     "output_type": "stream",
     "text": [
      "Best parameters found by GridSearchCV:\n",
      "{'criterion': 'entropy', 'max_depth': 3, 'min_samples_leaf': 5}\n"
     ]
    }
   ],
   "source": [
    "# Write your code here.\n",
    "# Train Decision Tree Classifier\n",
    "# Initialize the Decision Tree Classifier with specified parameters\n",
    "dt_classifier = DecisionTreeClassifier(criterion='gini', max_depth=5, min_samples_leaf=10, random_state=42)\n",
    "dt_classifier.fit(X_train_dt, y_train_dt)\n",
    "\n",
    "# Use cross-validation to search for the optimal combination of hyperparameters\n",
    "param_grid = {\n",
    "    'criterion': ['gini', 'entropy'],\n",
    "    'max_depth': [3, 5, 7, 10],\n",
    "    'min_samples_leaf': [5, 10, 20]\n",
    "}\n",
    "grid_search = GridSearchCV(dt_classifier, param_grid, cv=5, scoring='accuracy')\n",
    "grid_search.fit(X_train_dt, y_train_dt)\n",
    "\n",
    "# Get the best parameters from grid search\n",
    "best_params = grid_search.best_params_\n",
    "print(\"Best parameters found by GridSearchCV:\")\n",
    "print(best_params)\n",
    "\n",
    "# Evaluate the model with the best parameters on the test set\n",
    "best_dt_classifier = grid_search.best_estimator_\n",
    "y_pred_dt = best_dt_classifier.predict(X_test_dt)"
   ]
  },
  {
   "cell_type": "markdown",
   "id": "iBQuB1xW07IG",
   "metadata": {
    "id": "iBQuB1xW07IG"
   },
   "source": [
    "## Task 3: Model Evaluation\n",
    "\n",
    "\n",
    "* Make predictions on the testing dataset to evaluate the performance of your classification model. Clearly explain the metrics you are using.\n",
    "* Discussion: 1) Why the model did good or bad job for this specific problem and dataset? 2) Delve into the pros and cons of the model, commenting on potential overfitting or other relevant observations.\n",
    "\n"
   ]
  },
  {
   "cell_type": "code",
   "execution_count": 32,
   "id": "E0AyJ4e617EE",
   "metadata": {
    "id": "E0AyJ4e617EE"
   },
   "outputs": [],
   "source": [
    "# Write your code here.\n",
    "# Model Evaluation\n",
    "# Calculate accuracy, confusion matrix, and classification report\n",
    "accuracy = accuracy_score(y_test_dt, y_pred_dt)\n",
    "conf_matrix = confusion_matrix(y_test_dt, y_pred_dt)\n",
    "class_report = classification_report(y_test_dt, y_pred_dt)"
   ]
  },
  {
   "cell_type": "code",
   "execution_count": 33,
   "id": "75086599-92ac-4fe1-bee3-1a62e0cf5309",
   "metadata": {
    "scrolled": true
   },
   "outputs": [
    {
     "name": "stdout",
     "output_type": "stream",
     "text": [
      "Accuracy: 0.5369127516778524\n",
      "Confusion Matrix:\n",
      "[[  1 552]\n",
      " [  0 639]]\n",
      "Classification Report:\n",
      "              precision    recall  f1-score   support\n",
      "\n",
      "           0       1.00      0.00      0.00       553\n",
      "           1       0.54      1.00      0.70       639\n",
      "\n",
      "    accuracy                           0.54      1192\n",
      "   macro avg       0.77      0.50      0.35      1192\n",
      "weighted avg       0.75      0.54      0.38      1192\n",
      "\n"
     ]
    }
   ],
   "source": [
    "print(f\"Accuracy: {accuracy}\")\n",
    "print(\"Confusion Matrix:\")\n",
    "print(conf_matrix)\n",
    "print(\"Classification Report:\")\n",
    "print(class_report)"
   ]
  },
  {
   "cell_type": "markdown",
   "id": "72ed318a-b9be-45bc-b432-d0d9ed88c6b8",
   "metadata": {},
   "source": [
    "## Discussion\n",
    "1.  The decision tree model's performance depends on the complexity of the financial market data. The model may do a good job when the features clearly separate the classes, but financial data is inherently noisy, and the relationships between features and the target are often non-linear and complex. \n",
    "The chosen features may not fully capture the underlying market behavior, which could contribute to the model's inability to make accurate predictions.\n",
    "2.  Pros and Cons\n",
    "Pros: Decision trees are easy to interpret and visualize. They can handle both numerical and categorical data and do not require feature scaling.\n",
    "Cons: Decision trees are prone to overfitting, especially when the model is too deep. Financial market data is highly volatile, and decision trees may struggle to generalize well to unseen data due to the noise present in the dataset.\n",
    "\n",
    "Potential Overfitting Observation：The decision tree model may overfit the training data, especially if the depth is too high. This would lead to a model that performs well on training data but poorly on the test set. Particularly with highly complex or noisy datasets like financial data."
   ]
  },
  {
   "cell_type": "markdown",
   "id": "d7d3e3c9",
   "metadata": {
    "id": "d7d3e3c9"
   },
   "source": [
    "# 3. Random Forest From Scratch\n",
    "\n"
   ]
  },
  {
   "cell_type": "markdown",
   "id": "w0z4qFqxqMxh",
   "metadata": {
    "id": "w0z4qFqxqMxh"
   },
   "source": [
    "\n",
    "\n",
    "*   The main objective of this part is to study the overfitting problem encountered in Decision Trees.\n",
    "*   Task 1: Try to train a really deep decision tree. Use this model as an example to illustrate why overfitting happens.\n",
    "\n",
    "*  Task 2: Train a Random Forests model based on the same train data in\n",
    "Problem 2 - Decision Tree. Compared with the previous model, do Random Forests perform better or worse on the same test data and why?\n",
    "\n",
    "* Task 3: Perform an ablation study to investigate how varying the number of decision trees affects the performance of a Random Forest model.\n",
    "Visualize your results by plotting the number of decision trees against the metric used to assess the model performance, and comment your findings.\n",
    "\n",
    "\n"
   ]
  },
  {
   "cell_type": "code",
   "execution_count": 37,
   "id": "5y6P1S3Ori9X",
   "metadata": {
    "id": "5y6P1S3Ori9X",
    "scrolled": true
   },
   "outputs": [
    {
     "name": "stdout",
     "output_type": "stream",
     "text": [
      "Deep Decision Tree Model Evaluation:\n",
      "Accuracy: 0.5075503355704698\n",
      "Confusion Matrix:\n",
      "[[269 284]\n",
      " [303 336]]\n",
      "Classification Report:\n",
      "              precision    recall  f1-score   support\n",
      "\n",
      "           0       0.47      0.49      0.48       553\n",
      "           1       0.54      0.53      0.53       639\n",
      "\n",
      "    accuracy                           0.51      1192\n",
      "   macro avg       0.51      0.51      0.51      1192\n",
      "weighted avg       0.51      0.51      0.51      1192\n",
      "\n"
     ]
    }
   ],
   "source": [
    "# Write your code here.\n",
    "# Task 1: Train a really deep decision tree to illustrate overfitting\n",
    "deep_dt_classifier = DecisionTreeClassifier(criterion='gini', max_depth=None, min_samples_leaf=1, random_state=42)\n",
    "deep_dt_classifier.fit(X_train_dt, y_train_dt)\n",
    "\n",
    "# Evaluate the deep decision tree on the test set\n",
    "y_pred_deep_dt = deep_dt_classifier.predict(X_test_dt)\n",
    "accuracy_deep_dt = accuracy_score(y_test_dt, y_pred_deep_dt)\n",
    "print(\"Deep Decision Tree Model Evaluation:\")\n",
    "print(f\"Accuracy: {accuracy_deep_dt}\")\n",
    "print(\"Confusion Matrix:\")\n",
    "print(confusion_matrix(y_test_dt, y_pred_deep_dt))\n",
    "print(\"Classification Report:\")\n",
    "print(classification_report(y_test_dt, y_pred_deep_dt))"
   ]
  },
  {
   "cell_type": "markdown",
   "id": "1443172c-2cf3-4d3f-8ba0-243f311ef838",
   "metadata": {},
   "source": [
    "### Discussion on Overfitting\n",
    "\n",
    "As seen in the evaluation results, the deep decision tree achieved an accuracy of around 50.76% on the test set, which indicates poor generalization. The confusion matrix shows that the model struggles to differentiate between the two classes, with a high number of misclassifications for both positive and negative cases. The classification report also reflects the model's poor performance, with precision, recall, and F1-scores around 0.51, indicating that the model is not effectively learning generalizable patterns.\n",
    "\n",
    "Overfitting occurs because the model captures not only the underlying patterns but also the noise in the training data, leading to poor generalization to unseen data. The deep decision tree is likely to have a high training accuracy but performs poorly on the test set, as it fails to generalize well to new, unseen data. "
   ]
  },
  {
   "cell_type": "code",
   "execution_count": 39,
   "id": "906e5b00-f4ca-4921-86a0-de27fca6f098",
   "metadata": {},
   "outputs": [
    {
     "name": "stdout",
     "output_type": "stream",
     "text": [
      "Random Forest Model Evaluation:\n",
      "Accuracy: 0.5109060402684564\n",
      "Confusion Matrix:\n",
      "[[236 317]\n",
      " [266 373]]\n",
      "Classification Report:\n",
      "              precision    recall  f1-score   support\n",
      "\n",
      "           0       0.47      0.43      0.45       553\n",
      "           1       0.54      0.58      0.56       639\n",
      "\n",
      "    accuracy                           0.51      1192\n",
      "   macro avg       0.51      0.51      0.50      1192\n",
      "weighted avg       0.51      0.51      0.51      1192\n",
      "\n"
     ]
    }
   ],
   "source": [
    "# Task 2: Train a Random Forest model\n",
    "rf_classifier = RandomForestClassifier(n_estimators=100, criterion='gini', max_depth=None, min_samples_leaf=1, random_state=42)\n",
    "rf_classifier.fit(X_train_dt, y_train_dt)\n",
    "\n",
    "# Evaluate the Random Forest model on the test set\n",
    "y_pred_rf = rf_classifier.predict(X_test_dt)\n",
    "accuracy_rf = accuracy_score(y_test_dt, y_pred_rf)\n",
    "print(\"Random Forest Model Evaluation:\")\n",
    "print(f\"Accuracy: {accuracy_rf}\")\n",
    "print(\"Confusion Matrix:\")\n",
    "print(confusion_matrix(y_test_dt, y_pred_rf))\n",
    "print(\"Classification Report:\")\n",
    "print(classification_report(y_test_dt, y_pred_rf))"
   ]
  },
  {
   "cell_type": "markdown",
   "id": "409040a3-c455-4891-9de8-22e57b8c54e6",
   "metadata": {},
   "source": [
    "### Discussion on Random Forest Performance\n",
    "Compared to the deep decision tree, the Random Forest model is less prone to overfitting because it aggregates the results from multiple decision trees, each trained on different subsets of the data. As seen in the evaluation results, the Random Forest model achieved an accuracy of around 51.09%, which is slightly better than the deep decision tree's accuracy of 50.76%. The confusion matrix shows that the Random Forest model reduces the number of misclassifications compared to the deep decision tree, particularly for class 1. The classification report indicates slightly better recall and F1-score for class 1, suggesting that the Random Forest model is better at identifying the positive class."
   ]
  },
  {
   "cell_type": "code",
   "execution_count": 41,
   "id": "1f396083-f259-4f50-b376-d12594513fe5",
   "metadata": {
    "scrolled": true
   },
   "outputs": [
    {
     "data": {
      "image/png": "[encoded data removed]",
      "text/plain": [
       "<Figure size 1000x600 with 1 Axes>"
      ]
     },
     "metadata": {},
     "output_type": "display_data"
    }
   ],
   "source": [
    "# Task 3: Ablation Study - Varying Number of Trees in Random Forest\n",
    "num_trees = [10,100,200,300,400,500]\n",
    "accuracies = []\n",
    "\n",
    "for n in num_trees:\n",
    "    rf = RandomForestClassifier(n_estimators=n, criterion='gini', max_depth=None, min_samples_leaf=1, random_state=42)\n",
    "    rf.fit(X_train_dt, y_train_dt)\n",
    "    y_pred = rf.predict(X_test_dt)\n",
    "    accuracies.append(accuracy_score(y_test_dt, y_pred))\n",
    "\n",
    "# Plot the results\n",
    "plt.figure(figsize=(10, 6))\n",
    "plt.plot(num_trees, accuracies, marker='o')\n",
    "plt.xlabel('Number of Trees in Random Forest')\n",
    "plt.ylabel('Accuracy')\n",
    "plt.title('Ablation Study: Effect of Number of Trees on Random Forest Performance')\n",
    "plt.grid(True)\n",
    "plt.show()"
   ]
  },
  {
   "cell_type": "markdown",
   "id": "89d28faf-3926-45fe-8963-46415b9b2c7a",
   "metadata": {},
   "source": [
    "### Discussion on Ablation Study\n",
    "As observed in the plot, the accuracy initially increases with the number of trees, reaching a peak at around 400 trees, with an accuracy slightly above 52%. Beyond this point, the accuracy declines when the number of trees reaches 500.\n",
    "\n",
    "This trend suggests that while increasing the number of trees generally helps improve accuracy by reducing variance and enhancing generalization, there is a point where the model may become overly complex, leading to diminished returns or even a slight reduction in accuracy. The slight decline at 500 trees could be due to overfitting or the increased difficulty in averaging a large number of models, which might start capturing noise rather than useful patterns. "
   ]
  },
  {
   "cell_type": "code",
   "execution_count": null,
   "id": "a9b1cded-6b2e-4e9f-a582-039100973a87",
   "metadata": {},
   "outputs": [],
   "source": []
  }
 ],
 "metadata": {
  "colab": {
   "provenance": []
  },
  "kernelspec": {
   "display_name": "Python 3 (ipykernel)",
   "language": "python",
   "name": "python3"
  },
  "language_info": {
   "codemirror_mode": {
    "name": "ipython",
    "version": 3
   },
   "file_extension": ".py",
   "mimetype": "text/x-python",
   "name": "python",
   "nbconvert_exporter": "python",
   "pygments_lexer": "ipython3",
   "version": "3.12.4"
  }
 },
 "nbformat": 4,
 "nbformat_minor": 5
}
