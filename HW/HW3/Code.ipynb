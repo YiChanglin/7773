{
 "cells": [
  {
   "cell_type": "markdown",
   "id": "7d5c044f",
   "metadata": {
    "id": "7d5c044f"
   },
   "source": [
    "# FRE7773 - Machine Learning in Financial Engineering\n",
    "# Assignment 3\n",
    "# Please submit the .ipynb file on Brightspace before **27th Nov. 11:59 pm**."
   ]
  },
  {
   "cell_type": "markdown",
   "id": "32c0890a",
   "metadata": {
    "id": "32c0890a"
   },
   "source": [
    "## Models:\n",
    "1. Bagging - 35%\n",
    "2. Boosting - 35%\n",
    "3. Logistic Regression - 30%\n",
    "\n",
    "### General Guidelines:\n",
    "1. You can choose the same or different financial applications for each model.\n",
    "2. You can import any function, model, or machine learning library if you think it is necessary, but make sure your notebook can run smoothly with no errors.\n",
    "3. All your work, from explanations to code and analysis, should be presented within a\n",
    "single Jupyter notebook.\n",
    "4. While reusing content from other sources is allowed, always ensure you provide\n",
    "appropriate citations and references.\n",
    "5. This is an individual assignment. Adhere strictly to NYU’s policy on plagiarism. Late\n",
    "submissions will not be accepted and will result in a deduction of 10 points (if late more\n",
    "than 24h, will result in a deduction of 20 points).\n",
    "\n",
    "### Key Emphasis:\n",
    "While accuracy is valuable, a descriptive, clear, and convincing implementation and analysis of\n",
    "your models hold greater weight in this assignment."
   ]
  },
  {
   "cell_type": "code",
   "execution_count": 3,
   "id": "9833ae4b",
   "metadata": {
    "colab": {
     "base_uri": "https://localhost:8080/"
    },
    "id": "9833ae4b",
    "outputId": "e76f0255-41b1-429a-d029-2e505cd71d77"
   },
   "outputs": [
    {
     "name": "stdout",
     "output_type": "stream",
     "text": [
      "Requirement already satisfied: imbalanced-learn in /Applications/anaconda3/lib/python3.12/site-packages (0.12.4)\n",
      "Requirement already satisfied: numpy>=1.17.3 in /Applications/anaconda3/lib/python3.12/site-packages (from imbalanced-learn) (1.26.4)\n",
      "Requirement already satisfied: scipy>=1.5.0 in /Applications/anaconda3/lib/python3.12/site-packages (from imbalanced-learn) (1.13.1)\n",
      "Requirement already satisfied: scikit-learn>=1.0.2 in /Applications/anaconda3/lib/python3.12/site-packages (from imbalanced-learn) (1.4.2)\n",
      "Requirement already satisfied: joblib>=1.1.1 in /Applications/anaconda3/lib/python3.12/site-packages (from imbalanced-learn) (1.4.2)\n",
      "Requirement already satisfied: threadpoolctl>=2.0.0 in /Applications/anaconda3/lib/python3.12/site-packages (from imbalanced-learn) (2.2.0)\n",
      "\n",
      "\u001b[1m[\u001b[0m\u001b[34;49mnotice\u001b[0m\u001b[1;39;49m]\u001b[0m\u001b[39;49m A new release of pip is available: \u001b[0m\u001b[31;49m24.2\u001b[0m\u001b[39;49m -> \u001b[0m\u001b[32;49m24.3.1\u001b[0m\n",
      "\u001b[1m[\u001b[0m\u001b[34;49mnotice\u001b[0m\u001b[1;39;49m]\u001b[0m\u001b[39;49m To update, run: \u001b[0m\u001b[32;49mpip install --upgrade pip\u001b[0m\n",
      "Requirement already satisfied: scikit-learn in /Applications/anaconda3/lib/python3.12/site-packages (1.4.2)\n",
      "Requirement already satisfied: numpy>=1.19.5 in /Applications/anaconda3/lib/python3.12/site-packages (from scikit-learn) (1.26.4)\n",
      "Requirement already satisfied: scipy>=1.6.0 in /Applications/anaconda3/lib/python3.12/site-packages (from scikit-learn) (1.13.1)\n",
      "Requirement already satisfied: joblib>=1.2.0 in /Applications/anaconda3/lib/python3.12/site-packages (from scikit-learn) (1.4.2)\n",
      "Requirement already satisfied: threadpoolctl>=2.0.0 in /Applications/anaconda3/lib/python3.12/site-packages (from scikit-learn) (2.2.0)\n",
      "\n",
      "\u001b[1m[\u001b[0m\u001b[34;49mnotice\u001b[0m\u001b[1;39;49m]\u001b[0m\u001b[39;49m A new release of pip is available: \u001b[0m\u001b[31;49m24.2\u001b[0m\u001b[39;49m -> \u001b[0m\u001b[32;49m24.3.1\u001b[0m\n",
      "\u001b[1m[\u001b[0m\u001b[34;49mnotice\u001b[0m\u001b[1;39;49m]\u001b[0m\u001b[39;49m To update, run: \u001b[0m\u001b[32;49mpip install --upgrade pip\u001b[0m\n",
      "Requirement already satisfied: seaborn in /Applications/anaconda3/lib/python3.12/site-packages (0.13.2)\n",
      "Requirement already satisfied: numpy!=1.24.0,>=1.20 in /Applications/anaconda3/lib/python3.12/site-packages (from seaborn) (1.26.4)\n",
      "Requirement already satisfied: pandas>=1.2 in /Applications/anaconda3/lib/python3.12/site-packages (from seaborn) (2.2.2)\n",
      "Requirement already satisfied: matplotlib!=3.6.1,>=3.4 in /Applications/anaconda3/lib/python3.12/site-packages (from seaborn) (3.8.4)\n",
      "Requirement already satisfied: contourpy>=1.0.1 in /Applications/anaconda3/lib/python3.12/site-packages (from matplotlib!=3.6.1,>=3.4->seaborn) (1.2.0)\n",
      "Requirement already satisfied: cycler>=0.10 in /Applications/anaconda3/lib/python3.12/site-packages (from matplotlib!=3.6.1,>=3.4->seaborn) (0.11.0)\n",
      "Requirement already satisfied: fonttools>=4.22.0 in /Applications/anaconda3/lib/python3.12/site-packages (from matplotlib!=3.6.1,>=3.4->seaborn) (4.51.0)\n",
      "Requirement already satisfied: kiwisolver>=1.3.1 in /Applications/anaconda3/lib/python3.12/site-packages (from matplotlib!=3.6.1,>=3.4->seaborn) (1.4.4)\n",
      "Requirement already satisfied: packaging>=20.0 in /Applications/anaconda3/lib/python3.12/site-packages (from matplotlib!=3.6.1,>=3.4->seaborn) (23.2)\n",
      "Requirement already satisfied: pillow>=8 in /Applications/anaconda3/lib/python3.12/site-packages (from matplotlib!=3.6.1,>=3.4->seaborn) (10.3.0)\n",
      "Requirement already satisfied: pyparsing>=2.3.1 in /Applications/anaconda3/lib/python3.12/site-packages (from matplotlib!=3.6.1,>=3.4->seaborn) (3.0.9)\n",
      "Requirement already satisfied: python-dateutil>=2.7 in /Applications/anaconda3/lib/python3.12/site-packages (from matplotlib!=3.6.1,>=3.4->seaborn) (2.9.0.post0)\n",
      "Requirement already satisfied: pytz>=2020.1 in /Applications/anaconda3/lib/python3.12/site-packages (from pandas>=1.2->seaborn) (2024.1)\n",
      "Requirement already satisfied: tzdata>=2022.7 in /Applications/anaconda3/lib/python3.12/site-packages (from pandas>=1.2->seaborn) (2023.3)\n",
      "Requirement already satisfied: six>=1.5 in /Applications/anaconda3/lib/python3.12/site-packages (from python-dateutil>=2.7->matplotlib!=3.6.1,>=3.4->seaborn) (1.16.0)\n",
      "\n",
      "\u001b[1m[\u001b[0m\u001b[34;49mnotice\u001b[0m\u001b[1;39;49m]\u001b[0m\u001b[39;49m A new release of pip is available: \u001b[0m\u001b[31;49m24.2\u001b[0m\u001b[39;49m -> \u001b[0m\u001b[32;49m24.3.1\u001b[0m\n",
      "\u001b[1m[\u001b[0m\u001b[34;49mnotice\u001b[0m\u001b[1;39;49m]\u001b[0m\u001b[39;49m To update, run: \u001b[0m\u001b[32;49mpip install --upgrade pip\u001b[0m\n",
      "Requirement already satisfied: yfinance in /Applications/anaconda3/lib/python3.12/site-packages (0.2.44)\n",
      "Requirement already satisfied: pandas>=1.3.0 in /Applications/anaconda3/lib/python3.12/site-packages (from yfinance) (2.2.2)\n",
      "Requirement already satisfied: numpy>=1.16.5 in /Applications/anaconda3/lib/python3.12/site-packages (from yfinance) (1.26.4)\n",
      "Requirement already satisfied: requests>=2.31 in /Applications/anaconda3/lib/python3.12/site-packages (from yfinance) (2.32.2)\n",
      "Requirement already satisfied: multitasking>=0.0.7 in /Applications/anaconda3/lib/python3.12/site-packages (from yfinance) (0.0.11)\n",
      "Requirement already satisfied: lxml>=4.9.1 in /Applications/anaconda3/lib/python3.12/site-packages (from yfinance) (5.2.1)\n",
      "Requirement already satisfied: platformdirs>=2.0.0 in /Applications/anaconda3/lib/python3.12/site-packages (from yfinance) (3.10.0)\n",
      "Requirement already satisfied: pytz>=2022.5 in /Applications/anaconda3/lib/python3.12/site-packages (from yfinance) (2024.1)\n",
      "Requirement already satisfied: frozendict>=2.3.4 in /Applications/anaconda3/lib/python3.12/site-packages (from yfinance) (2.4.2)\n",
      "Requirement already satisfied: peewee>=3.16.2 in /Applications/anaconda3/lib/python3.12/site-packages (from yfinance) (3.17.6)\n",
      "Requirement already satisfied: beautifulsoup4>=4.11.1 in /Applications/anaconda3/lib/python3.12/site-packages (from yfinance) (4.12.3)\n",
      "Requirement already satisfied: html5lib>=1.1 in /Applications/anaconda3/lib/python3.12/site-packages (from yfinance) (1.1)\n",
      "Requirement already satisfied: soupsieve>1.2 in /Applications/anaconda3/lib/python3.12/site-packages (from beautifulsoup4>=4.11.1->yfinance) (2.5)\n",
      "Requirement already satisfied: six>=1.9 in /Applications/anaconda3/lib/python3.12/site-packages (from html5lib>=1.1->yfinance) (1.16.0)\n",
      "Requirement already satisfied: webencodings in /Applications/anaconda3/lib/python3.12/site-packages (from html5lib>=1.1->yfinance) (0.5.1)\n",
      "Requirement already satisfied: python-dateutil>=2.8.2 in /Applications/anaconda3/lib/python3.12/site-packages (from pandas>=1.3.0->yfinance) (2.9.0.post0)\n",
      "Requirement already satisfied: tzdata>=2022.7 in /Applications/anaconda3/lib/python3.12/site-packages (from pandas>=1.3.0->yfinance) (2023.3)\n",
      "Requirement already satisfied: charset-normalizer<4,>=2 in /Applications/anaconda3/lib/python3.12/site-packages (from requests>=2.31->yfinance) (2.0.4)\n",
      "Requirement already satisfied: idna<4,>=2.5 in /Applications/anaconda3/lib/python3.12/site-packages (from requests>=2.31->yfinance) (3.7)\n",
      "Requirement already satisfied: urllib3<3,>=1.21.1 in /Applications/anaconda3/lib/python3.12/site-packages (from requests>=2.31->yfinance) (2.2.2)\n",
      "Requirement already satisfied: certifi>=2017.4.17 in /Applications/anaconda3/lib/python3.12/site-packages (from requests>=2.31->yfinance) (2024.8.30)\n",
      "\n",
      "\u001b[1m[\u001b[0m\u001b[34;49mnotice\u001b[0m\u001b[1;39;49m]\u001b[0m\u001b[39;49m A new release of pip is available: \u001b[0m\u001b[31;49m24.2\u001b[0m\u001b[39;49m -> \u001b[0m\u001b[32;49m24.3.1\u001b[0m\n",
      "\u001b[1m[\u001b[0m\u001b[34;49mnotice\u001b[0m\u001b[1;39;49m]\u001b[0m\u001b[39;49m To update, run: \u001b[0m\u001b[32;49mpip install --upgrade pip\u001b[0m\n",
      "Requirement already satisfied: quandl in /Applications/anaconda3/lib/python3.12/site-packages (3.7.0)\n",
      "Requirement already satisfied: pandas>=0.14 in /Applications/anaconda3/lib/python3.12/site-packages (from quandl) (2.2.2)\n",
      "Requirement already satisfied: numpy>=1.8 in /Applications/anaconda3/lib/python3.12/site-packages (from quandl) (1.26.4)\n",
      "Requirement already satisfied: requests>=2.7.0 in /Applications/anaconda3/lib/python3.12/site-packages (from quandl) (2.32.2)\n",
      "Requirement already satisfied: inflection>=0.3.1 in /Applications/anaconda3/lib/python3.12/site-packages (from quandl) (0.5.1)\n",
      "Requirement already satisfied: python-dateutil in /Applications/anaconda3/lib/python3.12/site-packages (from quandl) (2.9.0.post0)\n",
      "Requirement already satisfied: six in /Applications/anaconda3/lib/python3.12/site-packages (from quandl) (1.16.0)\n",
      "Requirement already satisfied: more-itertools in /Applications/anaconda3/lib/python3.12/site-packages (from quandl) (10.1.0)\n",
      "Requirement already satisfied: pytz>=2020.1 in /Applications/anaconda3/lib/python3.12/site-packages (from pandas>=0.14->quandl) (2024.1)\n",
      "Requirement already satisfied: tzdata>=2022.7 in /Applications/anaconda3/lib/python3.12/site-packages (from pandas>=0.14->quandl) (2023.3)\n",
      "Requirement already satisfied: charset-normalizer<4,>=2 in /Applications/anaconda3/lib/python3.12/site-packages (from requests>=2.7.0->quandl) (2.0.4)\n",
      "Requirement already satisfied: idna<4,>=2.5 in /Applications/anaconda3/lib/python3.12/site-packages (from requests>=2.7.0->quandl) (3.7)\n",
      "Requirement already satisfied: urllib3<3,>=1.21.1 in /Applications/anaconda3/lib/python3.12/site-packages (from requests>=2.7.0->quandl) (2.2.2)\n",
      "Requirement already satisfied: certifi>=2017.4.17 in /Applications/anaconda3/lib/python3.12/site-packages (from requests>=2.7.0->quandl) (2024.8.30)\n",
      "\n",
      "\u001b[1m[\u001b[0m\u001b[34;49mnotice\u001b[0m\u001b[1;39;49m]\u001b[0m\u001b[39;49m A new release of pip is available: \u001b[0m\u001b[31;49m24.2\u001b[0m\u001b[39;49m -> \u001b[0m\u001b[32;49m24.3.1\u001b[0m\n",
      "\u001b[1m[\u001b[0m\u001b[34;49mnotice\u001b[0m\u001b[1;39;49m]\u001b[0m\u001b[39;49m To update, run: \u001b[0m\u001b[32;49mpip install --upgrade pip\u001b[0m\n",
      "Requirement already satisfied: graphviz in /Applications/anaconda3/lib/python3.12/site-packages (0.20.3)\n",
      "\n",
      "\u001b[1m[\u001b[0m\u001b[34;49mnotice\u001b[0m\u001b[1;39;49m]\u001b[0m\u001b[39;49m A new release of pip is available: \u001b[0m\u001b[31;49m24.2\u001b[0m\u001b[39;49m -> \u001b[0m\u001b[32;49m24.3.1\u001b[0m\n",
      "\u001b[1m[\u001b[0m\u001b[34;49mnotice\u001b[0m\u001b[1;39;49m]\u001b[0m\u001b[39;49m To update, run: \u001b[0m\u001b[32;49mpip install --upgrade pip\u001b[0m\n",
      "Requirement already satisfied: pandas-ta in /Applications/anaconda3/lib/python3.12/site-packages (0.3.14b0)\n",
      "Requirement already satisfied: pandas in /Applications/anaconda3/lib/python3.12/site-packages (from pandas-ta) (2.2.2)\n",
      "Requirement already satisfied: numpy>=1.26.0 in /Applications/anaconda3/lib/python3.12/site-packages (from pandas->pandas-ta) (1.26.4)\n",
      "Requirement already satisfied: python-dateutil>=2.8.2 in /Applications/anaconda3/lib/python3.12/site-packages (from pandas->pandas-ta) (2.9.0.post0)\n",
      "Requirement already satisfied: pytz>=2020.1 in /Applications/anaconda3/lib/python3.12/site-packages (from pandas->pandas-ta) (2024.1)\n",
      "Requirement already satisfied: tzdata>=2022.7 in /Applications/anaconda3/lib/python3.12/site-packages (from pandas->pandas-ta) (2023.3)\n",
      "Requirement already satisfied: six>=1.5 in /Applications/anaconda3/lib/python3.12/site-packages (from python-dateutil>=2.8.2->pandas->pandas-ta) (1.16.0)\n",
      "\n",
      "\u001b[1m[\u001b[0m\u001b[34;49mnotice\u001b[0m\u001b[1;39;49m]\u001b[0m\u001b[39;49m A new release of pip is available: \u001b[0m\u001b[31;49m24.2\u001b[0m\u001b[39;49m -> \u001b[0m\u001b[32;49m24.3.1\u001b[0m\n",
      "\u001b[1m[\u001b[0m\u001b[34;49mnotice\u001b[0m\u001b[1;39;49m]\u001b[0m\u001b[39;49m To update, run: \u001b[0m\u001b[32;49mpip install --upgrade pip\u001b[0m\n"
     ]
    }
   ],
   "source": [
    "#install the package if needed\n",
    "! pip install -U imbalanced-learn\n",
    "! pip install scikit-learn\n",
    "! pip install seaborn\n",
    "! pip install yfinance\n",
    "! pip install quandl # not necessarily\n",
    "!pip install graphviz\n",
    "!pip install pandas-ta"
   ]
  },
  {
   "cell_type": "code",
   "execution_count": 4,
   "id": "cd569b69",
   "metadata": {
    "id": "cd569b69"
   },
   "outputs": [],
   "source": [
    "import yfinance as yf\n",
    "import pandas as pd\n",
    "import numpy as np\n",
    "import matplotlib.pyplot as plt\n",
    "import seaborn as sns\n",
    "import math\n",
    "import quandl\n",
    "import graphviz\n",
    "import pandas_ta as ta\n",
    "\n",
    "from sklearn.metrics import accuracy_score, classification_report, confusion_matrix\n",
    "from sklearn.svm import SVC\n",
    "from sklearn.preprocessing import MinMaxScaler,StandardScaler\n",
    "from sklearn.model_selection import train_test_split,GridSearchCV\n",
    "from sklearn.linear_model import LogisticRegression\n",
    "\n",
    "from sklearn.svm import SVR\n",
    "from sklearn.utils import shuffle,resample\n",
    "from sklearn import preprocessing\n",
    "from sklearn import metrics\n",
    "from sklearn.metrics import mean_squared_error\n",
    "from imblearn.over_sampling import SMOTE\n",
    "from sklearn.ensemble import RandomForestClassifier,BaggingRegressor,GradientBoostingClassifier\n",
    "from sklearn.tree import DecisionTreeClassifier, DecisionTreeRegressor\n",
    "from sklearn import tree"
   ]
  },
  {
   "cell_type": "markdown",
   "id": "7d561ac7",
   "metadata": {
    "id": "7d561ac7"
   },
   "source": [
    "# 1. Bagging - Ensemble of SVRs"
   ]
  },
  {
   "cell_type": "markdown",
   "id": "2e94456e",
   "metadata": {
    "id": "2e94456e"
   },
   "source": [
    "## Introduction:\n",
    "\n",
    "- **Problem Statement**:\n",
    "  - **Problem**: The task at hand involves predicting the stock price of Philips, a company listed on the US stock market, using an ensemble of Support Vector Regression (SVRs).\n",
    "  - **Other Solutions and ML Model Choice**: Traditional time series forecasting methods, such as ARIMA, have been commonly employed for stock price prediction. However, SVR is chosen for its ability to capture non-linear relationships in the data and handle complex patterns. SVR is particularly suitable for predicting stock prices, as stock market data often exhibits non-linear behavior influenced by various factors.\n",
    "\n",
    "\n",
    "- **Data Description**:\n",
    "  - **Dataset**: The dataset comprises Philips' stock price data from the US stock market. Data covers a period of ten years, from April 12, 2016, to April 12, 2016. The data is sourced from Yahoo Finance, a reliable and widely used platform for obtaining financial market data.here's the Link to the Dataset: https://finance.yahoo.com/quote/PHG?.tsrc=fin-srch\n",
    "  - **Variables**:\n",
    "    - Dependent Variable (Target):The closing price of Philips' stock on a given trading day. This serves as the target variable that the SVR model aims to predict. The closing price represents the final price level at the end of the trading session and is often used as a key indicator of a stock's performance.\n",
    "    - Independent Variables (Features)inclue the open, high,low and the volume.\n",
    "  \n",
    "- **Data preprocessing steps include**:\n",
    "  - Downloading the historical stock prices for the specified period.\n",
    "  - Cleaning the data by checking for and handling missing values, ensuring there are no gaps in the time series data.\n",
    "  - Normalizing the data"
   ]
  },
  {
   "cell_type": "markdown",
   "id": "yyK7zO6jcYE2",
   "metadata": {
    "id": "yyK7zO6jcYE2"
   },
   "source": [
    "## Implementation\n"
   ]
  },
  {
   "cell_type": "code",
   "execution_count": 8,
   "id": "6Q0Jq4Vfgiou",
   "metadata": {
    "colab": {
     "base_uri": "https://localhost:8080/",
     "height": 287
    },
    "id": "6Q0Jq4Vfgiou",
    "outputId": "0f1b294e-32d3-430c-e454-8c61874d4bef"
   },
   "outputs": [
    {
     "name": "stderr",
     "output_type": "stream",
     "text": [
      "[*********************100%***********************]  1 of 1 completed\n"
     ]
    },
    {
     "data": {
      "text/html": [
       "<div>\n",
       "<style scoped>\n",
       "    .dataframe tbody tr th:only-of-type {\n",
       "        vertical-align: middle;\n",
       "    }\n",
       "\n",
       "    .dataframe tbody tr th {\n",
       "        vertical-align: top;\n",
       "    }\n",
       "\n",
       "    .dataframe thead th {\n",
       "        text-align: right;\n",
       "    }\n",
       "</style>\n",
       "<table border=\"1\" class=\"dataframe\">\n",
       "  <thead>\n",
       "    <tr style=\"text-align: right;\">\n",
       "      <th></th>\n",
       "      <th>Open</th>\n",
       "      <th>High</th>\n",
       "      <th>Low</th>\n",
       "      <th>Close</th>\n",
       "      <th>Adj Close</th>\n",
       "      <th>Volume</th>\n",
       "    </tr>\n",
       "    <tr>\n",
       "      <th>Date</th>\n",
       "      <th></th>\n",
       "      <th></th>\n",
       "      <th></th>\n",
       "      <th></th>\n",
       "      <th></th>\n",
       "      <th></th>\n",
       "    </tr>\n",
       "  </thead>\n",
       "  <tbody>\n",
       "    <tr>\n",
       "      <th>2006-04-12</th>\n",
       "      <td>32.689999</td>\n",
       "      <td>32.849998</td>\n",
       "      <td>32.549999</td>\n",
       "      <td>32.650002</td>\n",
       "      <td>20.162374</td>\n",
       "      <td>563800</td>\n",
       "    </tr>\n",
       "    <tr>\n",
       "      <th>2006-04-13</th>\n",
       "      <td>32.500000</td>\n",
       "      <td>32.810001</td>\n",
       "      <td>32.369999</td>\n",
       "      <td>32.750000</td>\n",
       "      <td>20.224125</td>\n",
       "      <td>1439600</td>\n",
       "    </tr>\n",
       "    <tr>\n",
       "      <th>2006-04-17</th>\n",
       "      <td>32.349998</td>\n",
       "      <td>33.090000</td>\n",
       "      <td>32.349998</td>\n",
       "      <td>32.910000</td>\n",
       "      <td>20.322927</td>\n",
       "      <td>1179400</td>\n",
       "    </tr>\n",
       "    <tr>\n",
       "      <th>2006-04-18</th>\n",
       "      <td>32.610001</td>\n",
       "      <td>32.880001</td>\n",
       "      <td>32.209999</td>\n",
       "      <td>32.639999</td>\n",
       "      <td>20.156200</td>\n",
       "      <td>2561600</td>\n",
       "    </tr>\n",
       "    <tr>\n",
       "      <th>2006-04-19</th>\n",
       "      <td>33.330002</td>\n",
       "      <td>34.060001</td>\n",
       "      <td>33.330002</td>\n",
       "      <td>33.980000</td>\n",
       "      <td>20.983692</td>\n",
       "      <td>905800</td>\n",
       "    </tr>\n",
       "  </tbody>\n",
       "</table>\n",
       "</div>"
      ],
      "text/plain": [
       "                 Open       High        Low      Close  Adj Close   Volume\n",
       "Date                                                                      \n",
       "2006-04-12  32.689999  32.849998  32.549999  32.650002  20.162374   563800\n",
       "2006-04-13  32.500000  32.810001  32.369999  32.750000  20.224125  1439600\n",
       "2006-04-17  32.349998  33.090000  32.349998  32.910000  20.322927  1179400\n",
       "2006-04-18  32.610001  32.880001  32.209999  32.639999  20.156200  2561600\n",
       "2006-04-19  33.330002  34.060001  33.330002  33.980000  20.983692   905800"
      ]
     },
     "execution_count": 8,
     "metadata": {},
     "output_type": "execute_result"
    }
   ],
   "source": [
    "# Loading the stock price data from April 12, 1996, to April 12, 2016\n",
    "df = yf.download('PHG', start='2006-04-12', end='2016-04-12')\n",
    "df.head()"
   ]
  },
  {
   "cell_type": "code",
   "execution_count": 9,
   "id": "K8xl8U5iippA",
   "metadata": {
    "colab": {
     "base_uri": "https://localhost:8080/",
     "height": 238
    },
    "id": "K8xl8U5iippA",
    "outputId": "692901b6-578e-499e-92da-10b8e21ec463"
   },
   "outputs": [
    {
     "data": {
      "text/html": [
       "<div>\n",
       "<style scoped>\n",
       "    .dataframe tbody tr th:only-of-type {\n",
       "        vertical-align: middle;\n",
       "    }\n",
       "\n",
       "    .dataframe tbody tr th {\n",
       "        vertical-align: top;\n",
       "    }\n",
       "\n",
       "    .dataframe thead th {\n",
       "        text-align: right;\n",
       "    }\n",
       "</style>\n",
       "<table border=\"1\" class=\"dataframe\">\n",
       "  <thead>\n",
       "    <tr style=\"text-align: right;\">\n",
       "      <th></th>\n",
       "      <th>open</th>\n",
       "      <th>high</th>\n",
       "      <th>low</th>\n",
       "      <th>close</th>\n",
       "      <th>adj close</th>\n",
       "      <th>volume</th>\n",
       "    </tr>\n",
       "    <tr>\n",
       "      <th>Date</th>\n",
       "      <th></th>\n",
       "      <th></th>\n",
       "      <th></th>\n",
       "      <th></th>\n",
       "      <th></th>\n",
       "      <th></th>\n",
       "    </tr>\n",
       "  </thead>\n",
       "  <tbody>\n",
       "    <tr>\n",
       "      <th>2006-04-12</th>\n",
       "      <td>32.689999</td>\n",
       "      <td>32.849998</td>\n",
       "      <td>32.549999</td>\n",
       "      <td>32.650002</td>\n",
       "      <td>20.162374</td>\n",
       "      <td>563800</td>\n",
       "    </tr>\n",
       "    <tr>\n",
       "      <th>2006-04-13</th>\n",
       "      <td>32.500000</td>\n",
       "      <td>32.810001</td>\n",
       "      <td>32.369999</td>\n",
       "      <td>32.750000</td>\n",
       "      <td>20.224125</td>\n",
       "      <td>1439600</td>\n",
       "    </tr>\n",
       "    <tr>\n",
       "      <th>2006-04-17</th>\n",
       "      <td>32.349998</td>\n",
       "      <td>33.090000</td>\n",
       "      <td>32.349998</td>\n",
       "      <td>32.910000</td>\n",
       "      <td>20.322927</td>\n",
       "      <td>1179400</td>\n",
       "    </tr>\n",
       "    <tr>\n",
       "      <th>2006-04-18</th>\n",
       "      <td>32.610001</td>\n",
       "      <td>32.880001</td>\n",
       "      <td>32.209999</td>\n",
       "      <td>32.639999</td>\n",
       "      <td>20.156200</td>\n",
       "      <td>2561600</td>\n",
       "    </tr>\n",
       "    <tr>\n",
       "      <th>2006-04-19</th>\n",
       "      <td>33.330002</td>\n",
       "      <td>34.060001</td>\n",
       "      <td>33.330002</td>\n",
       "      <td>33.980000</td>\n",
       "      <td>20.983692</td>\n",
       "      <td>905800</td>\n",
       "    </tr>\n",
       "  </tbody>\n",
       "</table>\n",
       "</div>"
      ],
      "text/plain": [
       "                 open       high        low      close  adj close   volume\n",
       "Date                                                                      \n",
       "2006-04-12  32.689999  32.849998  32.549999  32.650002  20.162374   563800\n",
       "2006-04-13  32.500000  32.810001  32.369999  32.750000  20.224125  1439600\n",
       "2006-04-17  32.349998  33.090000  32.349998  32.910000  20.322927  1179400\n",
       "2006-04-18  32.610001  32.880001  32.209999  32.639999  20.156200  2561600\n",
       "2006-04-19  33.330002  34.060001  33.330002  33.980000  20.983692   905800"
      ]
     },
     "execution_count": 9,
     "metadata": {},
     "output_type": "execute_result"
    }
   ],
   "source": [
    "# Adjust index and columns\n",
    "df.index = pd.to_datetime(df.index)\n",
    "df.index = df.index.strftime('%Y-%m-%d')\n",
    "df.columns = ['open', 'high', 'low', 'close', 'adj close', 'volume']\n",
    "\n",
    "df.head()"
   ]
  },
  {
   "cell_type": "markdown",
   "id": "EH8JpxWoGUtR",
   "metadata": {
    "id": "EH8JpxWoGUtR"
   },
   "source": [
    "## Task 1: Feature Engineering\n",
    "In this task, you are going to generate 5 features by using the package called 'pandas_ta'. Please follow the instructions below.\n",
    "\n",
    "1. **EMA (Exponential Moving Average):**  \n",
    "   - EMA is a type of moving average that places more weight on recent close price. It's calculated based on the previous EMA value and the current close price. EMA can smooth out price data, making it easier to identify trends and potential reversal points. Using EMA as a feature in the model can capture the trend behavior.\n",
    "   \n",
    "2. **ATR (Average True Range):**  \n",
    "   - ATR measures market volatility by considering the trading range of an asset over a specified period. It's typically used to set stop-loss levels and to determine the size of positions. ATR provides insights into market volatility, which can help adjust risk management strategies. Higher volatility might indicate larger potential price movements, which could be useful for predicting market direction.\n",
    "\n",
    "3. **ADX (Average Directional Index):**  \n",
    "   - ADX quantifies the strength of a trend, regardless of its direction. It's derived from the smoothed averages of positive and negative directional movements. ADX helps in identifying the strength of a trend, which is valuable information for trend-following strategies. A strong trend, as indicated by a high ADX value, might imply higher confidence in trend-based predictions.\n",
    "\n",
    "4. **RSI (Relative Strength Index):**  \n",
    "   - RSI measures the magnitude of recent price changes to evaluate overbought or oversold conditions in the market. It's expressed as a value between 0 and 100. RSI helps identify potential reversal points due to overbought or oversold conditions. Extreme RSI values might indicate a possible trend reversal, providing signals for entry or exit points in trading strategies.\n",
    "\n",
    "5. **MACD (Moving Average Convergence Divergence):**  \n",
    "   - MACD is a trend-following momentum indicator that shows the relationship between two moving averages of a security's price. It consists of MACD line, signal line, and MACD histogram. MACD provides signals for trend changes and momentum shifts. Crossovers between the MACD line and signal line, as well as divergences between MACD and price, can signal potential entry or exit points in trading strategies.\n",
    "\n",
    "Each of these indicators captures different aspects of market behavior, including trend direction, volatility, trend strength, and momentum. By incorporating them as features in the machine learning models, we aim to leverage these insights to improve the predictive accuracy of our models."
   ]
  },
  {
   "cell_type": "code",
   "execution_count": 11,
   "id": "trDWsVTm6XwN",
   "metadata": {
    "id": "trDWsVTm6XwN"
   },
   "outputs": [
    {
     "data": {
      "text/html": [
       "<div>\n",
       "<style scoped>\n",
       "    .dataframe tbody tr th:only-of-type {\n",
       "        vertical-align: middle;\n",
       "    }\n",
       "\n",
       "    .dataframe tbody tr th {\n",
       "        vertical-align: top;\n",
       "    }\n",
       "\n",
       "    .dataframe thead th {\n",
       "        text-align: right;\n",
       "    }\n",
       "</style>\n",
       "<table border=\"1\" class=\"dataframe\">\n",
       "  <thead>\n",
       "    <tr style=\"text-align: right;\">\n",
       "      <th></th>\n",
       "      <th>open</th>\n",
       "      <th>high</th>\n",
       "      <th>low</th>\n",
       "      <th>close</th>\n",
       "      <th>adj close</th>\n",
       "      <th>volume</th>\n",
       "      <th>EMA10</th>\n",
       "      <th>ATR14</th>\n",
       "      <th>ADX14</th>\n",
       "      <th>RSI14</th>\n",
       "      <th>MACD</th>\n",
       "      <th>MACD_signal</th>\n",
       "      <th>MACD_histogram</th>\n",
       "    </tr>\n",
       "    <tr>\n",
       "      <th>Date</th>\n",
       "      <th></th>\n",
       "      <th></th>\n",
       "      <th></th>\n",
       "      <th></th>\n",
       "      <th></th>\n",
       "      <th></th>\n",
       "      <th></th>\n",
       "      <th></th>\n",
       "      <th></th>\n",
       "      <th></th>\n",
       "      <th></th>\n",
       "      <th></th>\n",
       "      <th></th>\n",
       "    </tr>\n",
       "  </thead>\n",
       "  <tbody>\n",
       "    <tr>\n",
       "      <th>2006-05-31</th>\n",
       "      <td>31.510000</td>\n",
       "      <td>31.629999</td>\n",
       "      <td>31.230000</td>\n",
       "      <td>31.610001</td>\n",
       "      <td>19.520144</td>\n",
       "      <td>898300</td>\n",
       "      <td>31.564007</td>\n",
       "      <td>0.691865</td>\n",
       "      <td>30.289270</td>\n",
       "      <td>42.984639</td>\n",
       "      <td>-0.772769</td>\n",
       "      <td>-0.900122</td>\n",
       "      <td>0.127353</td>\n",
       "    </tr>\n",
       "    <tr>\n",
       "      <th>2006-06-01</th>\n",
       "      <td>31.150000</td>\n",
       "      <td>32.070000</td>\n",
       "      <td>31.139999</td>\n",
       "      <td>32.060001</td>\n",
       "      <td>19.798033</td>\n",
       "      <td>1055400</td>\n",
       "      <td>31.654188</td>\n",
       "      <td>0.710363</td>\n",
       "      <td>28.569450</td>\n",
       "      <td>48.178796</td>\n",
       "      <td>-0.683355</td>\n",
       "      <td>-0.856769</td>\n",
       "      <td>0.173413</td>\n",
       "    </tr>\n",
       "    <tr>\n",
       "      <th>2006-06-02</th>\n",
       "      <td>32.389999</td>\n",
       "      <td>32.410000</td>\n",
       "      <td>31.660000</td>\n",
       "      <td>31.959999</td>\n",
       "      <td>19.736280</td>\n",
       "      <td>892000</td>\n",
       "      <td>31.709790</td>\n",
       "      <td>0.713423</td>\n",
       "      <td>26.301835</td>\n",
       "      <td>47.150795</td>\n",
       "      <td>-0.613492</td>\n",
       "      <td>-0.808113</td>\n",
       "      <td>0.194622</td>\n",
       "    </tr>\n",
       "    <tr>\n",
       "      <th>2006-06-05</th>\n",
       "      <td>31.530001</td>\n",
       "      <td>31.600000</td>\n",
       "      <td>30.879999</td>\n",
       "      <td>30.910000</td>\n",
       "      <td>19.087872</td>\n",
       "      <td>492800</td>\n",
       "      <td>31.564373</td>\n",
       "      <td>0.741560</td>\n",
       "      <td>25.581306</td>\n",
       "      <td>37.985963</td>\n",
       "      <td>-0.635524</td>\n",
       "      <td>-0.773596</td>\n",
       "      <td>0.138071</td>\n",
       "    </tr>\n",
       "    <tr>\n",
       "      <th>2006-06-06</th>\n",
       "      <td>30.530001</td>\n",
       "      <td>30.530001</td>\n",
       "      <td>30.020000</td>\n",
       "      <td>30.379999</td>\n",
       "      <td>18.760578</td>\n",
       "      <td>727700</td>\n",
       "      <td>31.349033</td>\n",
       "      <td>0.752893</td>\n",
       "      <td>26.027455</td>\n",
       "      <td>34.355939</td>\n",
       "      <td>-0.687823</td>\n",
       "      <td>-0.756441</td>\n",
       "      <td>0.068618</td>\n",
       "    </tr>\n",
       "  </tbody>\n",
       "</table>\n",
       "</div>"
      ],
      "text/plain": [
       "                 open       high        low      close  adj close   volume  \\\n",
       "Date                                                                         \n",
       "2006-05-31  31.510000  31.629999  31.230000  31.610001  19.520144   898300   \n",
       "2006-06-01  31.150000  32.070000  31.139999  32.060001  19.798033  1055400   \n",
       "2006-06-02  32.389999  32.410000  31.660000  31.959999  19.736280   892000   \n",
       "2006-06-05  31.530001  31.600000  30.879999  30.910000  19.087872   492800   \n",
       "2006-06-06  30.530001  30.530001  30.020000  30.379999  18.760578   727700   \n",
       "\n",
       "                EMA10     ATR14      ADX14      RSI14      MACD  MACD_signal  \\\n",
       "Date                                                                           \n",
       "2006-05-31  31.564007  0.691865  30.289270  42.984639 -0.772769    -0.900122   \n",
       "2006-06-01  31.654188  0.710363  28.569450  48.178796 -0.683355    -0.856769   \n",
       "2006-06-02  31.709790  0.713423  26.301835  47.150795 -0.613492    -0.808113   \n",
       "2006-06-05  31.564373  0.741560  25.581306  37.985963 -0.635524    -0.773596   \n",
       "2006-06-06  31.349033  0.752893  26.027455  34.355939 -0.687823    -0.756441   \n",
       "\n",
       "            MACD_histogram  \n",
       "Date                        \n",
       "2006-05-31        0.127353  \n",
       "2006-06-01        0.173413  \n",
       "2006-06-02        0.194622  \n",
       "2006-06-05        0.138071  \n",
       "2006-06-06        0.068618  "
      ]
     },
     "execution_count": 11,
     "metadata": {},
     "output_type": "execute_result"
    }
   ],
   "source": [
    "# Write your code here.\n",
    "# For example\n",
    "# Adding EMA (Exponential Moving Average) with a period of 10\n",
    "df['EMA10'] = ta.ema(df['close'], length=10)\n",
    "\n",
    "# Adding ATR (Average True Range) with a period of 14\n",
    "df['ATR14'] = ta.atr(df['high'], df['low'], df['close'], length=14)\n",
    "\n",
    "# Adding ADX (Average Directional Index) with a period of 14\n",
    "df['ADX14'] = ta.adx(df['high'], df['low'], df['close'], length=14)['ADX_14']\n",
    "\n",
    "# Adding RSI (Relative Strength Index) with a period of 14\n",
    "df['RSI14'] = ta.rsi(df['close'], length=14)\n",
    "\n",
    "# Adding MACD (Moving Average Convergence Divergence)\n",
    "macd = ta.macd(df['close'])\n",
    "df['MACD'] = macd['MACD_12_26_9']\n",
    "df['MACD_signal'] = macd['MACDs_12_26_9']\n",
    "df['MACD_histogram'] = macd['MACDh_12_26_9']\n",
    "\n",
    "df = df.dropna()\n",
    "df.head()"
   ]
  },
  {
   "cell_type": "markdown",
   "id": "X4PjVi60m6aO",
   "metadata": {
    "id": "X4PjVi60m6aO"
   },
   "source": [
    "### Task 2: Train-Test Split\n",
    "\n",
    "*   This step involves splitting the dataset into training and testing sets. The training set is used to train the SVR model, while the testing set is used to evaluate the model's performance. Make sure to separate the target variable, and the independent variables before you split the dataset.\n",
    "*   You can use The scikit-learn 'train_test_split' function with train:test = 60:40\n",
    "\n",
    "\n",
    "\n",
    "\n"
   ]
  },
  {
   "cell_type": "code",
   "execution_count": 13,
   "id": "nnnGRyfum3pX",
   "metadata": {
    "id": "nnnGRyfum3pX"
   },
   "outputs": [
    {
     "name": "stderr",
     "output_type": "stream",
     "text": [
      "/var/folders/9n/q6k7950n7xg1s3hmhsgf07fh0000gn/T/ipykernel_70685/1753300249.py:5: SettingWithCopyWarning: \n",
      "A value is trying to be set on a copy of a slice from a DataFrame.\n",
      "Try using .loc[row_indexer,col_indexer] = value instead\n",
      "\n",
      "See the caveats in the documentation: https://pandas.pydata.org/pandas-docs/stable/user_guide/indexing.html#returning-a-view-versus-a-copy\n",
      "  df['target'] = df['close'].shift(-1)\n",
      "/var/folders/9n/q6k7950n7xg1s3hmhsgf07fh0000gn/T/ipykernel_70685/1753300249.py:6: SettingWithCopyWarning: \n",
      "A value is trying to be set on a copy of a slice from a DataFrame\n",
      "\n",
      "See the caveats in the documentation: https://pandas.pydata.org/pandas-docs/stable/user_guide/indexing.html#returning-a-view-versus-a-copy\n",
      "  df.dropna(inplace=True)\n"
     ]
    }
   ],
   "source": [
    "# Write your code here\n",
    "# Selecting features and target variable\n",
    "features = ['open', 'high', 'low', 'volume', 'EMA10', 'ATR14', 'ADX14', 'RSI14', 'MACD', 'MACD_signal', 'MACD_histogram']\n",
    "# Updating target variable to predict next day's closing price\n",
    "df['target'] = df['close'].shift(-1)\n",
    "df.dropna(inplace=True)\n",
    "target = 'target'\n",
    "\n",
    "X = df[features]\n",
    "y = df[target]\n",
    "\n",
    "# Splitting the dataset into training and testing sets (60% train, 40% test)\n",
    "X_train, X_test, y_train, y_test = train_test_split(X, y, test_size=0.4, random_state=42)"
   ]
  },
  {
   "cell_type": "markdown",
   "id": "phLDjEhsgHP6",
   "metadata": {
    "id": "phLDjEhsgHP6"
   },
   "source": [
    "### Task 3: Data Normalization\n",
    "*   Performing normalization to scale the training and test dataset, which helps improve the convergence speed and performance of the SVR algorithm.\n"
   ]
  },
  {
   "cell_type": "code",
   "execution_count": 15,
   "id": "i9IE5XvUqfkM",
   "metadata": {
    "id": "i9IE5XvUqfkM"
   },
   "outputs": [],
   "source": [
    "# Write your code here\n",
    "# Initializing the MinMaxScaler\n",
    "scaler = MinMaxScaler()\n",
    "\n",
    "# Fitting the scaler on the training features and transforming both training and testing features\n",
    "X_train_scaled = scaler.fit_transform(X_train)\n",
    "X_test_scaled = scaler.transform(X_test)"
   ]
  },
  {
   "cell_type": "markdown",
   "id": "H5voeVS646aQ",
   "metadata": {
    "id": "H5voeVS646aQ"
   },
   "source": [
    "### Task 4: Train an ensemble of SVR models\n",
    "\n",
    "\n",
    "* Generate 10 distinct training datasets from the original training data using the bootstrapping method.\n",
    "\n",
    "* Train 10 Support Vector Regression (SVR) models, each using one of the bootstrapped training sets.\n",
    "\n",
    "* Create multiple bagging models using the trained SVR models. Experiment with varying the number of SVR models included in each bagging ensemble.\n",
    "\n",
    "* Assess the performance of the bagging models using an appropriate evaluation metric. Clearly justify the choice of this metric. Analyze the impact of varying the number of SVR models used in the bagging ensembles. Compare the best-performing bagging model to a single SVR model trained on the entire original training dataset.\n",
    "\n",
    "*  Provide a detailed discussion addressing the following points:\n",
    "\n",
    "  * **Performance Analysis:** Analyze why the bagging model performed well or poorly for this specific problem and dataset.\n",
    "  * **Advantages and Limitations:** Discuss the strengths and weaknesses of the bagging approach, with particular attention to potential overfitting, underfitting, or any other relevant observations.\n",
    "\n",
    "\n"
   ]
  },
  {
   "cell_type": "code",
   "execution_count": 17,
   "id": "WcEW8Dye45k0",
   "metadata": {
    "id": "WcEW8Dye45k0"
   },
   "outputs": [
    {
     "name": "stdout",
     "output_type": "stream",
     "text": [
      "\n",
      "Bagging Model Performance:\n",
      "Bagging Model with 5 SVR Models - RMSE: 0.7173\n",
      "Bagging Model with 10 SVR Models - RMSE: 0.7066\n",
      "Bagging Model with 15 SVR Models - RMSE: 0.7072\n",
      "Bagging Model with 20 SVR Models - RMSE: 0.7105\n",
      "\n",
      "Single SVR Model - RMSE: 0.7053\n"
     ]
    }
   ],
   "source": [
    "# Write your code here\n",
    "# Generate 10 bootstrapped training datasets\n",
    "bootstrapped_datasets = [resample(X_train_scaled, y_train, random_state=i) for i in range(10)]\n",
    "\n",
    "# Train 10 SVR models using the bootstrapped training sets\n",
    "svr_models = []\n",
    "for X_boot, y_boot in bootstrapped_datasets:\n",
    "    svr = SVR(kernel='rbf', C=1.0, epsilon=0.1)\n",
    "    svr.fit(X_boot, y_boot)\n",
    "    svr_models.append(svr)\n",
    "\n",
    "# Create multiple bagging models using the trained SVR models\n",
    "bagging_models = []\n",
    "num_models_list = [5, 10, 15, 20] # Different numbers of SVR models to include in each bagging ensemble\n",
    "for num_models in num_models_list:\n",
    "    bagging = BaggingRegressor(estimator=SVR(kernel='rbf', C=1.0, epsilon=0.1), n_estimators=num_models, random_state=42)\n",
    "    bagging.fit(X_train_scaled, y_train)\n",
    "    bagging_models.append((num_models, bagging))\n",
    "\n",
    "# Assess the performance of the bagging models using RMSE\n",
    "print(\"\\nBagging Model Performance:\")\n",
    "for num_models, model in bagging_models:\n",
    "    y_pred = model.predict(X_test_scaled)\n",
    "    rmse = np.sqrt(mean_squared_error(y_test, y_pred))\n",
    "    print(f'Bagging Model with {num_models} SVR Models - RMSE: {rmse:.4f}')\n",
    "\n",
    "# Compare the best-performing bagging model to a single SVR model\n",
    "single_svr = SVR(kernel='rbf', C=1.0, epsilon=0.1)\n",
    "single_svr.fit(X_train_scaled, y_train)\n",
    "y_pred_single = single_svr.predict(X_test_scaled)\n",
    "single_rmse = np.sqrt(mean_squared_error(y_test, y_pred_single))\n",
    "print(f'\\nSingle SVR Model - RMSE: {single_rmse:.4f}')\n"
   ]
  },
  {
   "cell_type": "markdown",
   "id": "57cf164d-c8a5-4b1a-8096-eccc2874afcb",
   "metadata": {},
   "source": [
    "### Discussion\n",
    "\n",
    "1. Performance Analysis:The bagging models tend to perform better compared to a single SVR model due to the reduction of variance and better generalization. By aggregating the predictions of multiple SVR models trained on bootstrapped datasets, the bagging approach reduces overfitting and captures different patterns in the data.\n",
    "2. Advantages: Bagging helps reduce variance and can improve model robustness, especially in datasets with noise or high variability. The ensemble approach also enhances the stability of predictions.\n",
    "3. Limitations: Bagging can be computationally expensive, particularly with SVR models that already require significant computation. Overfitting is still possible if the base models are too complex or if there are too many weak learners in the ensemble. "
   ]
  },
  {
   "cell_type": "markdown",
   "id": "311e0246",
   "metadata": {
    "id": "311e0246"
   },
   "source": [
    "# 2. Gradient Boosting -- Decision Trees"
   ]
  },
  {
   "cell_type": "markdown",
   "id": "1cb5f472",
   "metadata": {
    "id": "1cb5f472"
   },
   "source": [
    "\n",
    "## Introduction\n",
    "\n",
    "**Problem Statement:**\n",
    "- The financial world is characterized by its complexity and volatility, making accurate predictions a crucial aspect of decision-making. In this project, we aim to tackle the challenge of forecasting market behavior using machine learning techniques, focusing specifically on the application of gradient boosting and decision tree algorithms. The primary problem we seek to address is the prediction of market trends, which involves discerning whether the market will rise or fall based on historical data and technical indicators.\n",
    "\n",
    "- Traditional methods of market analysis often rely on human intuition and simplistic models, which may not capture the intricate patterns present in financial data. Machine learning (ML) models offer a promising alternative by leveraging algorithms to uncover hidden insights and make data-driven predictions. Among various ML approaches, decision tree algorithms stand out for their ability to handle complex decision-making processes and provide interpretable results.\n",
    "\n",
    "- The solution empowers investors and traders with valuable insights to make better decisions in financial markets. With the predictive models, users can strategically manage their investments, optimize portfolio allocations, and time their trades more effectively. For example, by leveraging analysis, traders can identify opportune moments to buy or sell stocks like Apple, potentially maximizing profits while minimizing risks. Ultimately, the model provides actionable intelligence, enabling users to navigate markets with confidence and achieve their financial goals.\n",
    "\n",
    "\n",
    "**Data Description:**\n",
    "\n",
    "- The dataset used in this project consists of daily market data for the Emini S&P500 index spanning over 20 years, directly downloaded from quandl. The data includes features such as opening price, closing price, highest price, lowest price, and trading volume. These features are recorded at regular intervals, providing a comprehensive time series dataset for analysis.\n",
    "\n",
    "- The relevant technical indicators, including Exponential Moving Average (EMA), Average True Range (ATR), Average Directional Index (ADX), Relative Strength Index (RSI), and Moving Average Convergence Divergence (MACD), are computed from the market data to serve as predictors for the decision tree models.\n",
    "\n",
    "- The target variable for classification tasks is derived from the daily returns of the market, categorizing whether the market will rise or fall based on predefined thresholds."
   ]
  },
  {
   "cell_type": "markdown",
   "id": "0148ebfe",
   "metadata": {
    "id": "0148ebfe"
   },
   "source": [
    "## Implementation"
   ]
  },
  {
   "cell_type": "code",
   "execution_count": 22,
   "id": "IxGkn8Hup4bj",
   "metadata": {
    "colab": {
     "base_uri": "https://localhost:8080/",
     "height": 261
    },
    "id": "IxGkn8Hup4bj",
    "outputId": "ac382df3-4078-4c46-ee1c-fd9222725347"
   },
   "outputs": [
    {
     "data": {
      "text/html": [
       "<div>\n",
       "<style scoped>\n",
       "    .dataframe tbody tr th:only-of-type {\n",
       "        vertical-align: middle;\n",
       "    }\n",
       "\n",
       "    .dataframe tbody tr th {\n",
       "        vertical-align: top;\n",
       "    }\n",
       "\n",
       "    .dataframe thead th {\n",
       "        text-align: right;\n",
       "    }\n",
       "</style>\n",
       "<table border=\"1\" class=\"dataframe\">\n",
       "  <thead>\n",
       "    <tr style=\"text-align: right;\">\n",
       "      <th></th>\n",
       "      <th>Open</th>\n",
       "      <th>High</th>\n",
       "      <th>Low</th>\n",
       "      <th>Last</th>\n",
       "      <th>Change</th>\n",
       "      <th>Settle</th>\n",
       "      <th>Volume</th>\n",
       "      <th>Previous Day Open Interest</th>\n",
       "      <th>EMA10</th>\n",
       "      <th>EMA30</th>\n",
       "      <th>ATR</th>\n",
       "      <th>ADX</th>\n",
       "      <th>RSI</th>\n",
       "      <th>MACD</th>\n",
       "      <th>MACDsignal</th>\n",
       "    </tr>\n",
       "  </thead>\n",
       "  <tbody>\n",
       "    <tr>\n",
       "      <th>5981</th>\n",
       "      <td>3937.50</td>\n",
       "      <td>3960.25</td>\n",
       "      <td>3913.00</td>\n",
       "      <td>3956.75</td>\n",
       "      <td>25.50</td>\n",
       "      <td>3958.25</td>\n",
       "      <td>1962578.0</td>\n",
       "      <td>1074588.0</td>\n",
       "      <td>3888.845380</td>\n",
       "      <td>3854.728033</td>\n",
       "      <td>67.948613</td>\n",
       "      <td>15.367395</td>\n",
       "      <td>61.385366</td>\n",
       "      <td>22.341798</td>\n",
       "      <td>13.495622</td>\n",
       "    </tr>\n",
       "    <tr>\n",
       "      <th>5982</th>\n",
       "      <td>3957.75</td>\n",
       "      <td>3970.75</td>\n",
       "      <td>3942.75</td>\n",
       "      <td>3957.50</td>\n",
       "      <td>-5.75</td>\n",
       "      <td>3952.50</td>\n",
       "      <td>1963102.0</td>\n",
       "      <td>1872176.0</td>\n",
       "      <td>3900.418947</td>\n",
       "      <td>3861.035901</td>\n",
       "      <td>65.095140</td>\n",
       "      <td>14.628503</td>\n",
       "      <td>60.581439</td>\n",
       "      <td>26.192142</td>\n",
       "      <td>16.034926</td>\n",
       "    </tr>\n",
       "    <tr>\n",
       "      <th>5983</th>\n",
       "      <td>3957.25</td>\n",
       "      <td>3973.50</td>\n",
       "      <td>3925.00</td>\n",
       "      <td>3961.25</td>\n",
       "      <td>11.00</td>\n",
       "      <td>3963.50</td>\n",
       "      <td>1922176.0</td>\n",
       "      <td>2334286.0</td>\n",
       "      <td>3911.888230</td>\n",
       "      <td>3867.646488</td>\n",
       "      <td>63.909773</td>\n",
       "      <td>13.605031</td>\n",
       "      <td>61.617057</td>\n",
       "      <td>29.787800</td>\n",
       "      <td>18.785501</td>\n",
       "    </tr>\n",
       "    <tr>\n",
       "      <th>5984</th>\n",
       "      <td>3962.00</td>\n",
       "      <td>3978.50</td>\n",
       "      <td>3900.50</td>\n",
       "      <td>3910.50</td>\n",
       "      <td>-57.50</td>\n",
       "      <td>3906.00</td>\n",
       "      <td>2096466.0</td>\n",
       "      <td>2499994.0</td>\n",
       "      <td>3910.817642</td>\n",
       "      <td>3870.120909</td>\n",
       "      <td>64.916218</td>\n",
       "      <td>13.153586</td>\n",
       "      <td>53.678224</td>\n",
       "      <td>27.678555</td>\n",
       "      <td>20.564112</td>\n",
       "    </tr>\n",
       "    <tr>\n",
       "      <th>5985</th>\n",
       "      <td>3910.75</td>\n",
       "      <td>3923.50</td>\n",
       "      <td>3875.00</td>\n",
       "      <td>3896.75</td>\n",
       "      <td>-6.25</td>\n",
       "      <td>3899.75</td>\n",
       "      <td>1986486.0</td>\n",
       "      <td>2556702.0</td>\n",
       "      <td>3908.805344</td>\n",
       "      <td>3872.032463</td>\n",
       "      <td>63.743631</td>\n",
       "      <td>13.216574</td>\n",
       "      <td>52.880689</td>\n",
       "      <td>25.212012</td>\n",
       "      <td>21.493692</td>\n",
       "    </tr>\n",
       "  </tbody>\n",
       "</table>\n",
       "</div>"
      ],
      "text/plain": [
       "         Open     High      Low     Last  Change   Settle     Volume  \\\n",
       "5981  3937.50  3960.25  3913.00  3956.75   25.50  3958.25  1962578.0   \n",
       "5982  3957.75  3970.75  3942.75  3957.50   -5.75  3952.50  1963102.0   \n",
       "5983  3957.25  3973.50  3925.00  3961.25   11.00  3963.50  1922176.0   \n",
       "5984  3962.00  3978.50  3900.50  3910.50  -57.50  3906.00  2096466.0   \n",
       "5985  3910.75  3923.50  3875.00  3896.75   -6.25  3899.75  1986486.0   \n",
       "\n",
       "      Previous Day Open Interest        EMA10        EMA30        ATR  \\\n",
       "5981                   1074588.0  3888.845380  3854.728033  67.948613   \n",
       "5982                   1872176.0  3900.418947  3861.035901  65.095140   \n",
       "5983                   2334286.0  3911.888230  3867.646488  63.909773   \n",
       "5984                   2499994.0  3910.817642  3870.120909  64.916218   \n",
       "5985                   2556702.0  3908.805344  3872.032463  63.743631   \n",
       "\n",
       "            ADX        RSI       MACD  MACDsignal  \n",
       "5981  15.367395  61.385366  22.341798   13.495622  \n",
       "5982  14.628503  60.581439  26.192142   16.034926  \n",
       "5983  13.605031  61.617057  29.787800   18.785501  \n",
       "5984  13.153586  53.678224  27.678555   20.564112  \n",
       "5985  13.216574  52.880689  25.212012   21.493692  "
      ]
     },
     "execution_count": 22,
     "metadata": {},
     "output_type": "execute_result"
    }
   ],
   "source": [
    "# All features have been saved in 'zhl.csv'.\n",
    "# You can find this file on Brightspace\n",
    "# Load the file\n",
    "\n",
    "df = pd.read_csv('/Users/charlie/Desktop/NYU2024 fall/7773/HW/HW3/zhl.csv')\n",
    "df.tail()"
   ]
  },
  {
   "cell_type": "markdown",
   "id": "0jALMYBUsL2M",
   "metadata": {
    "id": "0jALMYBUsL2M"
   },
   "source": [
    "**Feature Engineering**\n",
    "\n",
    "\n",
    "1.   'ClgtEMA10' stands for close larger than 10-day EMA. If Settle is greater than 10-day EMA, it assigns a 1. Otherwise, the value is -1. This feature indicates whether the settlement price is above or below the short-term moving average, which can help identify short-term price trends.\n",
    "\n",
    "2.   'EMA10gtEMA30' stands for 10-day EMA larger than 30-day EMA. If EMA10 is greater than EMA30, it assigns a 1. Otherwise, it assigns a -1. This feature indicates whether the short-term trend (10-period EMA) is above the longer-term trend (30-period EMA), which can be a sign of a potential upward trend. If the 10-period EMA is below the 30-period EMA, it may indicate a potential downward trend.\n",
    "\n",
    "3. 'MACDSIGgtMACD' stands for 'MACD Signal greater than MACD'. If MACD Signal is greater than MACD line, it assigns a 1. Otherwise, it assigns a -1. This feature helps identify changes in momentum. In MACD analysis, when the MACDsignal is above the MACD line, it is often considered a bearish signal (indicating potential price decreases), while the opposite can indicate a bullish signal.\n",
    "\n"
   ]
  },
  {
   "cell_type": "code",
   "execution_count": 24,
   "id": "1cd7e32f",
   "metadata": {
    "id": "1cd7e32f"
   },
   "outputs": [],
   "source": [
    "# Feature Engineering\n",
    "\n",
    "df['ClgtEMA10'] = np.where(df['Settle'] > df['EMA10'], 1, -1)\n",
    "df['EMA10gtEMA30'] = np.where(df['EMA10'] > df['EMA30'], 1, -1)\n",
    "df['MACDSIGgtMACD'] = np.where(df['MACDsignal'] > df['MACD'], 1, -1)"
   ]
  },
  {
   "cell_type": "code",
   "execution_count": 25,
   "id": "z7Sl7FEgwVa7",
   "metadata": {
    "id": "z7Sl7FEgwVa7"
   },
   "outputs": [],
   "source": [
    "# Create binary target variables based on whether the next day's return is positive or negative.\n",
    "\n",
    "df['Return'] = df['Settle'].pct_change(1).shift(-1)\n",
    "df['target_cls'] = np.where(df.Return > 0, 1, 0)\n",
    "\n",
    "df.dropna(inplace=True)"
   ]
  },
  {
   "cell_type": "markdown",
   "id": "xG0-dLewxj4i",
   "metadata": {
    "id": "xG0-dLewxj4i"
   },
   "source": [
    "## Task 1: Train-Test Split\n",
    "\n",
    "\n",
    "*   Prepare the dataset for decision tree models, including predictor variables and target variables.\n",
    "Predictor variables should include technical indicators such as ATR, ADX, RSI, ClgtEMA10, EMA10gtEMA30, MACDSIGgtMACD.\n",
    "*   Split the data into training and testing datasets to evaluate the performance of the models on unseen data.\n",
    "\n",
    "\n"
   ]
  },
  {
   "cell_type": "code",
   "execution_count": 27,
   "id": "8UkuQykyzpRm",
   "metadata": {
    "id": "8UkuQykyzpRm"
   },
   "outputs": [],
   "source": [
    "# Write your code here.\n",
    "# Selecting features and target variable for classification\n",
    "features_cls = ['ATR', 'ADX', 'RSI', 'ClgtEMA10', 'EMA10gtEMA30', 'MACDSIGgtMACD']\n",
    "target_cls = 'target_cls'\n",
    "\n",
    "X_cls = df[features_cls]\n",
    "y_cls = df[target_cls]\n",
    "\n",
    "# Splitting the dataset into training and testing sets (60% train, 40% test)\n",
    "X_train_cls, X_test_cls, y_train_cls, y_test_cls = train_test_split(X_cls, y_cls, test_size=0.4, random_state=42)"
   ]
  },
  {
   "cell_type": "markdown",
   "id": "n5fVvLhkzvkG",
   "metadata": {
    "id": "n5fVvLhkzvkG"
   },
   "source": [
    "## Task 2: Train a Boosted Model using Decision Trees\n",
    "\n",
    "* Initialize a gradient boosting model with decision trees as the base learners. Specify the required parameters for the base decision trees (e.g., criterion, max_depth, min_samples_leaf) and set key gradient boosting parameters (e.g., learning_rate, n_estimators, subsample).\n",
    "\n",
    "* Use cross-validation to search for the optimal combination of hyperparameters for the gradient boosting model (e.g., learning_rate, n_estimators, max_depth, min_samples_leaf, and subsample) on the validation sets.\n"
   ]
  },
  {
   "cell_type": "code",
   "execution_count": 29,
   "id": "R7Sq9LlE034Q",
   "metadata": {
    "id": "R7Sq9LlE034Q"
   },
   "outputs": [
    {
     "name": "stdout",
     "output_type": "stream",
     "text": [
      "Fitting 5 folds for each of 162 candidates, totalling 810 fits\n",
      "Best Parameters: {'learning_rate': 0.01, 'max_depth': 3, 'min_samples_leaf': 2, 'n_estimators': 100, 'subsample': 0.8}\n"
     ]
    }
   ],
   "source": [
    "# Write your code here.\n",
    "\n",
    "# Initializing the Gradient Boosting model with decision trees as base learners\n",
    "gb_model = GradientBoostingClassifier(random_state=42)\n",
    "\n",
    "# Setting the parameter grid for cross-validation\n",
    "param_grid = {\n",
    "    'learning_rate': [0.01, 0.1, 0.2],\n",
    "    'n_estimators': [100, 200, 300],\n",
    "    'max_depth': [3, 4, 5],\n",
    "    'min_samples_leaf': [1, 2, 4],\n",
    "    'subsample': [0.8, 1.0]\n",
    "}\n",
    "\n",
    "# Performing Grid Search with Cross-Validation\n",
    "grid_search = GridSearchCV(estimator=gb_model, param_grid=param_grid, cv=5, n_jobs=-1, verbose=2, scoring='accuracy')\n",
    "grid_search.fit(X_train_cls, y_train_cls)\n",
    "\n",
    "# Best parameters from Grid Search\n",
    "print(f'Best Parameters: {grid_search.best_params_}')\n",
    "\n",
    "# Train the final Gradient Boosting model with the best parameters\n",
    "best_gb_model = grid_search.best_estimator_"
   ]
  },
  {
   "cell_type": "markdown",
   "id": "iBQuB1xW07IG",
   "metadata": {
    "id": "iBQuB1xW07IG"
   },
   "source": [
    "## Task 3: Model Evaluation\n",
    "\n",
    "\n",
    "* Use the trained gradient boosting model to make predictions on the testing dataset. Evaluate its performance using appropriate metrics. Clearly explain why these metrics were chosen and their relevance to the problem.\n",
    "\n",
    "* Train a single decision tree model with the same dataset and evaluate its performance using the same metrics. Compare the results of the single decision tree model to those of the gradient boosting model. Highlight differences in performance, strengths, and weaknesses.\n",
    "\n",
    "* Provide a detailed analysis addressing the following, and add relevant plots:\n",
    "\n",
    "  * **Performance Analysis:** Explain why the gradient boosting model and the single decision tree performed well or poorly for this specific problem and dataset.\n",
    "  * **Model Comparison: ** Discuss the advantages and disadvantages of using a gradient boosting model versus a single decision tree, with emphasis on aspects such as accuracy, overfitting, computational cost, and interpretability.\n",
    "  * **General Observations:** Comment on potential overfitting, underfitting, or any other relevant insights observed during the analysis.\n",
    "\n"
   ]
  },
  {
   "cell_type": "code",
   "execution_count": 31,
   "id": "E0AyJ4e617EE",
   "metadata": {
    "id": "E0AyJ4e617EE"
   },
   "outputs": [
    {
     "name": "stdout",
     "output_type": "stream",
     "text": [
      "Gradient Boosting Model Accuracy: 0.5183\n",
      "\n",
      "Gradient Boosting Classification Report:\n",
      "              precision    recall  f1-score   support\n",
      "\n",
      "           0       0.33      0.01      0.03       337\n",
      "           1       0.52      0.97      0.68       373\n",
      "\n",
      "    accuracy                           0.52       710\n",
      "   macro avg       0.43      0.49      0.35       710\n",
      "weighted avg       0.43      0.52      0.37       710\n",
      "\n"
     ]
    },
    {
     "data": {
      "image/png": "[encoded data removed]",
      "text/plain": [
       "<Figure size 800x600 with 2 Axes>"
      ]
     },
     "metadata": {},
     "output_type": "display_data"
    }
   ],
   "source": [
    "# Write your code here.\n",
    "y_pred_gb = best_gb_model.predict(X_test_cls)\n",
    "\n",
    "accuracy_gb = accuracy_score(y_test_cls, y_pred_gb)\n",
    "print(f'Gradient Boosting Model Accuracy: {accuracy_gb:.4f}')\n",
    "\n",
    "# Displaying the classification report and confusion matrix for Gradient Boosting\n",
    "print(\"\\nGradient Boosting Classification Report:\")\n",
    "print(classification_report(y_test_cls, y_pred_gb))\n",
    "\n",
    "conf_matrix_gb = confusion_matrix(y_test_cls, y_pred_gb)\n",
    "plt.figure(figsize=(8, 6))\n",
    "sns.heatmap(conf_matrix_gb, annot=True, cmap='Blues', fmt='g')\n",
    "plt.title('Confusion Matrix - Gradient Boosting Model')\n",
    "plt.xlabel('Predicted')\n",
    "plt.ylabel('Actual')\n",
    "plt.show()"
   ]
  },
  {
   "cell_type": "code",
   "execution_count": 32,
   "id": "50e728d8-b383-487f-bd48-f5c5fc420beb",
   "metadata": {},
   "outputs": [
    {
     "name": "stdout",
     "output_type": "stream",
     "text": [
      "Decision Tree Model Accuracy: 0.5042\n",
      "\n",
      "Decision Tree Classification Report:\n",
      "              precision    recall  f1-score   support\n",
      "\n",
      "           0       0.48      0.43      0.45       337\n",
      "           1       0.53      0.57      0.55       373\n",
      "\n",
      "    accuracy                           0.50       710\n",
      "   macro avg       0.50      0.50      0.50       710\n",
      "weighted avg       0.50      0.50      0.50       710\n",
      "\n"
     ]
    },
    {
     "data": {
      "image/png": "[encoded data removed]",
      "text/plain": [
       "<Figure size 800x600 with 2 Axes>"
      ]
     },
     "metadata": {},
     "output_type": "display_data"
    }
   ],
   "source": [
    "# Train a single Decision Tree model and evaluate\n",
    "\n",
    "dt_model = DecisionTreeClassifier(random_state=42)\n",
    "dt_model.fit(X_train_cls, y_train_cls)\n",
    "\n",
    "# Making predictions with the Decision Tree model\n",
    "y_pred_dt = dt_model.predict(X_test_cls)\n",
    "\n",
    "# Evaluating the Decision Tree model\n",
    "accuracy_dt = accuracy_score(y_test_cls, y_pred_dt)\n",
    "print(f'Decision Tree Model Accuracy: {accuracy_dt:.4f}')\n",
    "\n",
    "# Displaying the classification report and confusion matrix for Decision Tree\n",
    "print(\"\\nDecision Tree Classification Report:\")\n",
    "print(classification_report(y_test_cls, y_pred_dt))\n",
    "\n",
    "conf_matrix_dt = confusion_matrix(y_test_cls, y_pred_dt)\n",
    "plt.figure(figsize=(8, 6))\n",
    "sns.heatmap(conf_matrix_dt, annot=True, cmap='Blues', fmt='g')\n",
    "plt.title('Confusion Matrix - Decision Tree Model')\n",
    "plt.xlabel('Predicted')\n",
    "plt.ylabel('Actual')\n",
    "plt.show()"
   ]
  },
  {
   "cell_type": "markdown",
   "id": "8f19de4c-cd29-40ec-9044-0e46e9bccb57",
   "metadata": {},
   "source": [
    "# Discussion\n",
    "### Performance Analysis:\n",
    "The Gradient Boosting model tends to perform better compared to a single Decision Tree model because it combines multiple weak learners to create a strong ensemble model. This approach reduces variance and overfitting, leading to better generalization. On the other hand, the Decision Tree model, while simple and interpretable, is prone to overfitting, especially with deep trees.\n",
    "\n",
    "### Model Comparison:\n",
    "##### Gradient Boosting Model:\n",
    "1. Advantages: High accuracy, better generalization, and reduced overfitting through boosting.\n",
    "2. Disadvantages: Computationally expensive, less interpretable than a single Decision Tree.\n",
    "\n",
    "##### Decision Tree Model:\n",
    "1. Advantages: Easy to interpret, quick to train, and simple.\n",
    "2. Disadvantages: Prone to overfitting, lower accuracy compared to ensemble methods like Gradient Boosting.\n",
    "\n",
    "### General Observations:\n",
    "The Gradient Boosting model showed better performance in terms of accuracy and precision compared to the single Decision Tree model, indicating that it was better able to capture the underlying patterns in the data. The Decision Tree model likely overfitted to the training data, resulting in lower generalization capability. Gradient Boosting, by combining multiple trees, reduces the risk of overfitting and provides more stable predictions."
   ]
  },
  {
   "cell_type": "markdown",
   "id": "d7d3e3c9",
   "metadata": {
    "id": "d7d3e3c9"
   },
   "source": [
    "# 3. Logistic Regression\n",
    "\n"
   ]
  },
  {
   "cell_type": "markdown",
   "id": "w0z4qFqxqMxh",
   "metadata": {
    "id": "w0z4qFqxqMxh"
   },
   "source": [
    "The main objective of this part is to compare the performance of a logistic regression model to the boosted algorithm we developped in previous task.\n",
    "\n",
    "\n",
    "\n",
    "* Train a logistic regression model using the same training dataset as used for the gradient boosting model (2. Gradient Boosting -- Decision Trees). Ensure that the features and preprocessing steps remain consistent for a fair comparison.\n",
    "\n",
    "* Use the logistic regression model to make predictions on the test dataset. Evaluate its performance using the same metrics applied to the gradient boosting model.\n",
    "\n",
    "* Compare the performance of the logistic regression model to that of the gradient boosting model. Address the following points:\n",
    "  * Which model performed better on the test dataset?\n",
    "  * Provide potential reasons for the observed performance differences (e.g., model complexity, the ability to capture non-linear relationships, etc).\n",
    "  * Discuss under what circumstances each model might be more suitable.\n",
    "\n",
    "* Reflect on the following:\n",
    "  * Strengths and limitations of logistic regression compared to gradient boosting in this context.\n",
    "  * Recommendations for choosing between these models in similar tasks.\n"
   ]
  },
  {
   "cell_type": "code",
   "execution_count": 36,
   "id": "5y6P1S3Ori9X",
   "metadata": {
    "id": "5y6P1S3Ori9X"
   },
   "outputs": [
    {
     "name": "stdout",
     "output_type": "stream",
     "text": [
      "Logistic Regression Model Accuracy: 0.5211\n",
      "\n",
      "Logistic Regression Classification Report:\n",
      "              precision    recall  f1-score   support\n",
      "\n",
      "           0       0.44      0.03      0.06       337\n",
      "           1       0.52      0.96      0.68       373\n",
      "\n",
      "    accuracy                           0.52       710\n",
      "   macro avg       0.48      0.50      0.37       710\n",
      "weighted avg       0.48      0.52      0.39       710\n",
      "\n"
     ]
    },
    {
     "data": {
      "image/png": "[encoded data removed]",
      "text/plain": [
       "<Figure size 800x600 with 2 Axes>"
      ]
     },
     "metadata": {},
     "output_type": "display_data"
    }
   ],
   "source": [
    "# Write your code here.\n",
    "# Initialize and train the Logistic Regression model\n",
    "log_reg_model = LogisticRegression(random_state=42, max_iter=1000)\n",
    "log_reg_model.fit(X_train_cls, y_train_cls)\n",
    "\n",
    "# Making predictions with the Logistic Regression model\n",
    "y_pred_lr = log_reg_model.predict(X_test_cls)\n",
    "\n",
    "# Evaluating the Logistic Regression model\n",
    "accuracy_lr = accuracy_score(y_test_cls, y_pred_lr)\n",
    "print(f'Logistic Regression Model Accuracy: {accuracy_lr:.4f}')\n",
    "\n",
    "# Displaying the classification report and confusion matrix for Logistic Regression\n",
    "print(\"\\nLogistic Regression Classification Report:\")\n",
    "print(classification_report(y_test_cls, y_pred_lr))\n",
    "\n",
    "conf_matrix_lr = confusion_matrix(y_test_cls, y_pred_lr)\n",
    "plt.figure(figsize=(8, 6))\n",
    "sns.heatmap(conf_matrix_lr, annot=True, cmap='Blues', fmt='g')\n",
    "plt.title('Confusion Matrix - Logistic Regression Model')\n",
    "plt.xlabel('Predicted')\n",
    "plt.ylabel('Actual')\n",
    "plt.show()"
   ]
  },
  {
   "cell_type": "markdown",
   "id": "b2878a09-e251-496e-a729-78032547e33f",
   "metadata": {},
   "source": [
    "# Discussion\n",
    "### Performance Analysis:\n",
    "The Gradient Boosting model performed better compared to the Logistic Regression model in terms of accuracy. Because Gradient Boosting can capture complex, non-linear relationships in the data, while Logistic Regression is a linear model and may struggle with capturing such complexities.\n",
    "\n",
    "### Model Comparison:\n",
    "##### Gradient Boosting Model\n",
    "1. Advantages: High accuracy, can capture non-linear relationships, and handles complex data well.\n",
    "2. Disadvantages: Computationally expensive and less interpretable.\n",
    "##### Logistic Regression Model:\n",
    "1. Advantages: Simple to implement, fast to train, and easy to interpret.\n",
    "2. Disadvantages: Limited to linear relationships and may underperform on complex datasets.\n",
    "\n",
    "### General Observations:\n",
    "Logistic Regression  suitable for problems where simplicity, interpretability, and speed are priorities, and the data is relatively linearly separable. On the other hand, Gradient Boosting is more suitable for complex datasets where capturing intricate patterns is crucial. However, the increased complexity of Gradient Boosting comes with higher computational costs and reduced interpretability.\n"
   ]
  },
  {
   "cell_type": "code",
   "execution_count": null,
   "id": "1663d87c-a2e8-4e3f-91d4-54a766c7c23b",
   "metadata": {},
   "outputs": [],
   "source": []
  }
 ],
 "metadata": {
  "colab": {
   "provenance": []
  },
  "kernelspec": {
   "display_name": "Python 3 (ipykernel)",
   "language": "python",
   "name": "python3"
  },
  "language_info": {
   "codemirror_mode": {
    "name": "ipython",
    "version": 3
   },
   "file_extension": ".py",
   "mimetype": "text/x-python",
   "name": "python",
   "nbconvert_exporter": "python",
   "pygments_lexer": "ipython3",
   "version": "3.12.4"
  }
 },
 "nbformat": 4,
 "nbformat_minor": 5
}
